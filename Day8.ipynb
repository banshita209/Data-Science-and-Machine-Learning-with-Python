{
  "nbformat": 4,
  "nbformat_minor": 0,
  "metadata": {
    "colab": {
      "name": "Day8.ipynb",
      "provenance": [],
      "collapsed_sections": [],
      "authorship_tag": "ABX9TyN5wQXAiKDFs3a7+APNlDe5",
      "include_colab_link": true
    },
    "kernelspec": {
      "name": "python3",
      "display_name": "Python 3"
    },
    "language_info": {
      "name": "python"
    }
  },
  "cells": [
    {
      "cell_type": "markdown",
      "metadata": {
        "id": "view-in-github",
        "colab_type": "text"
      },
      "source": [
        "<a href=\"https://colab.research.google.com/github/banshita209/Data-Science-and-Machine-Learning-with-Python/blob/master/Day8.ipynb\" target=\"_parent\"><img src=\"https://colab.research.google.com/assets/colab-badge.svg\" alt=\"Open In Colab\"/></a>"
      ]
    },
    {
      "cell_type": "markdown",
      "metadata": {
        "id": "gymvMQj1ZtnL"
      },
      "source": [
        "# Supervised Machine learning\n",
        "* train machine with label data\n",
        "    * input-> label : name of data ( known data)\n",
        "* already know the output\n",
        "---\n",
        "\n",
        "####Supervised learning is the types of machine learning in which machines are trained using well \"labelled\" training data, and on basis of that data, machines predict the output. The labelled data means some input data is already tagged with the correct output\n",
        "\n",
        "\n",
        "---\n",
        "\n",
        "\n",
        "### types of supervised learning:\n",
        "* regression:\n",
        "  * have input and output variable\n",
        "  * we will find realtionship between these i/p and o/p data\n",
        "  * example :\n",
        "    * y=ax+b (line equation)\n",
        "    * here, x is independent data ( feature data ), b is intercept , a is cofficient and y is dependent data\n",
        "    * we will try to find relations between independent and dependent data\n",
        "  * type of regression:\n",
        "    * Linear regression :\n",
        "      * single data\n",
        "      * for example  : we want to predicate salary on basis of experience\n",
        "    * Multiple regression :\n",
        "      * multiple data\n",
        "      * multiple data is used to predicate data\n",
        "\n",
        "* classification:\n",
        "---\n",
        "\n",
        "\n",
        "* data set (suppose we have 100 record)\n",
        "  * trained : (we will train with 80 record)\n",
        "  * test : (test with remaining 20 record)\n",
        "\n",
        "\n",
        "\n",
        "---\n",
        "\n",
        "Ml algo:\n",
        "1. take some data\n",
        "2. clean data\n",
        "3. prepare model\n",
        "4. predict accuracry / cost\n",
        "\n"
      ]
    },
    {
      "cell_type": "code",
      "metadata": {
        "id": "K8cGt5gWZqv-"
      },
      "source": [
        ""
      ],
      "execution_count": null,
      "outputs": []
    }
  ]
}