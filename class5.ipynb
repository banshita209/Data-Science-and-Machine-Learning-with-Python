{
  "nbformat": 4,
  "nbformat_minor": 0,
  "metadata": {
    "colab": {
      "name": "class5.ipynb",
      "provenance": [],
      "authorship_tag": "ABX9TyN50HS5Rvzd+LjsKHdZlyV9",
      "include_colab_link": true
    },
    "kernelspec": {
      "name": "python3",
      "display_name": "Python 3"
    },
    "language_info": {
      "name": "python"
    }
  },
  "cells": [
    {
      "cell_type": "markdown",
      "metadata": {
        "id": "view-in-github",
        "colab_type": "text"
      },
      "source": [
        "<a href=\"https://colab.research.google.com/github/banshita209/banshita209-Data-Science-and-Machine-Learning-with-Python/blob/master/class5.ipynb\" target=\"_parent\"><img src=\"https://colab.research.google.com/assets/colab-badge.svg\" alt=\"Open In Colab\"/></a>"
      ]
    },
    {
      "cell_type": "code",
      "metadata": {
        "id": "UQKVWzODq36N"
      },
      "source": [
        ""
      ],
      "execution_count": null,
      "outputs": []
    },
    {
      "cell_type": "markdown",
      "metadata": {
        "id": "HXde_aJWq4oC"
      },
      "source": [
        "# Numpy\n",
        "\n",
        "\n",
        "*   if we define it in one line we can say : numerical python\n",
        "*   its a library in python\n",
        "* use for scientific computing  \n",
        "* it contain n-dimension array object\n",
        "* linear algebra caculation can be done in numpy\n",
        "* multi dimenial operations are easy to perform\n",
        "* it have good documentation so we can refer it whenever we have some doubt.\n",
        "* \n",
        "\n"
      ]
    },
    {
      "cell_type": "markdown",
      "metadata": {
        "id": "CeMeoLCVsGtA"
      },
      "source": [
        "# INstall numpy\n",
        "\n",
        "\n",
        "*   in cmd :pip install numpy\n",
        "*   anoconda install numpy for anoconda\n",
        "* already onstalled in cloab\n",
        "\n"
      ]
    },
    {
      "cell_type": "code",
      "metadata": {
        "colab": {
          "base_uri": "https://localhost:8080/"
        },
        "id": "zZnQkcXpsboT",
        "outputId": "d74e1145-2038-4ac7-dad2-f452b548b02a"
      },
      "source": [
        "pip install numpy"
      ],
      "execution_count": 1,
      "outputs": [
        {
          "output_type": "stream",
          "text": [
            "Requirement already satisfied: numpy in /usr/local/lib/python3.7/dist-packages (1.19.5)\n"
          ],
          "name": "stdout"
        }
      ]
    },
    {
      "cell_type": "code",
      "metadata": {
        "id": "7725mwlasggE"
      },
      "source": [
        "import numpy as np\n",
        "# rename numpy library to np for easier access\n",
        " "
      ],
      "execution_count": 3,
      "outputs": []
    },
    {
      "cell_type": "markdown",
      "metadata": {
        "id": "hVBvcri-stzl"
      },
      "source": [
        "# Create 1-D array\n"
      ]
    },
    {
      "cell_type": "code",
      "metadata": {
        "colab": {
          "base_uri": "https://localhost:8080/"
        },
        "id": "P9GUM9E3s0II",
        "outputId": "ff24c9a0-9984-4d2e-d93b-fadc980b9b00"
      },
      "source": [
        "a=np.array([1,2,3])\n",
        "print(a)\n",
        "print(type(a))"
      ],
      "execution_count": 4,
      "outputs": [
        {
          "output_type": "stream",
          "text": [
            "[1 2 3]\n",
            "<class 'numpy.ndarray'>\n"
          ],
          "name": "stdout"
        }
      ]
    },
    {
      "cell_type": "markdown",
      "metadata": {
        "id": "ez21SSjBtBlc"
      },
      "source": [
        "nd array means: n dimension array\n",
        "\n",
        "\n",
        "---\n",
        "\n",
        "# 2-D Array"
      ]
    },
    {
      "cell_type": "code",
      "metadata": {
        "colab": {
          "base_uri": "https://localhost:8080/"
        },
        "id": "OcWAJR4AtM6W",
        "outputId": "e0ff4b5b-3772-49ee-8099-2238f4252e6d"
      },
      "source": [
        "a = np.array([[1,2,3],[10,20,30]])\n",
        "print(a)\n",
        "print(type(a))"
      ],
      "execution_count": 7,
      "outputs": [
        {
          "output_type": "stream",
          "text": [
            "[[ 1  2  3]\n",
            " [10 20 30]]\n",
            "<class 'numpy.ndarray'>\n"
          ],
          "name": "stdout"
        }
      ]
    }
  ]
}