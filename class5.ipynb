{
  "nbformat": 4,
  "nbformat_minor": 0,
  "metadata": {
    "colab": {
      "name": "class5.ipynb",
      "provenance": [],
      "authorship_tag": "ABX9TyO2ZlRV5JNGQJR9yoYG4gp+",
      "include_colab_link": true
    },
    "kernelspec": {
      "name": "python3",
      "display_name": "Python 3"
    },
    "language_info": {
      "name": "python"
    }
  },
  "cells": [
    {
      "cell_type": "markdown",
      "metadata": {
        "id": "view-in-github",
        "colab_type": "text"
      },
      "source": [
        "<a href=\"https://colab.research.google.com/github/banshita209/banshita209-Data-Science-and-Machine-Learning-with-Python/blob/master/class5.ipynb\" target=\"_parent\"><img src=\"https://colab.research.google.com/assets/colab-badge.svg\" alt=\"Open In Colab\"/></a>"
      ]
    },
    {
      "cell_type": "code",
      "metadata": {
        "id": "UQKVWzODq36N"
      },
      "source": [
        ""
      ],
      "execution_count": null,
      "outputs": []
    },
    {
      "cell_type": "markdown",
      "metadata": {
        "id": "HXde_aJWq4oC"
      },
      "source": [
        "# Numpy\n",
        "\n",
        "\n",
        "*   if we define it in one line we can say : numerical python\n",
        "*   its a library in python\n",
        "* use for scientific computing  \n",
        "* it contain n-dimension array object\n",
        "* linear algebra caculation can be done in numpy\n",
        "* multi dimenial operations are easy to perform\n",
        "* it have good documentation so we can refer it whenever we have some doubt.\n",
        "* \n",
        "\n"
      ]
    },
    {
      "cell_type": "markdown",
      "metadata": {
        "id": "CeMeoLCVsGtA"
      },
      "source": [
        "# INstall numpy\n",
        "\n",
        "\n",
        "*   in cmd :pip install numpy\n",
        "*   anoconda install numpy for anoconda\n",
        "* already onstalled in cloab\n",
        "\n"
      ]
    },
    {
      "cell_type": "code",
      "metadata": {
        "colab": {
          "base_uri": "https://localhost:8080/"
        },
        "id": "zZnQkcXpsboT",
        "outputId": "d74e1145-2038-4ac7-dad2-f452b548b02a"
      },
      "source": [
        "pip install numpy"
      ],
      "execution_count": null,
      "outputs": [
        {
          "output_type": "stream",
          "text": [
            "Requirement already satisfied: numpy in /usr/local/lib/python3.7/dist-packages (1.19.5)\n"
          ],
          "name": "stdout"
        }
      ]
    },
    {
      "cell_type": "code",
      "metadata": {
        "id": "7725mwlasggE"
      },
      "source": [
        "import numpy as np\n",
        "# rename numpy library to np for easier access\n",
        " "
      ],
      "execution_count": null,
      "outputs": []
    },
    {
      "cell_type": "markdown",
      "metadata": {
        "id": "hVBvcri-stzl"
      },
      "source": [
        "# Create 1-D array\n"
      ]
    },
    {
      "cell_type": "code",
      "metadata": {
        "colab": {
          "base_uri": "https://localhost:8080/"
        },
        "id": "P9GUM9E3s0II",
        "outputId": "ff24c9a0-9984-4d2e-d93b-fadc980b9b00"
      },
      "source": [
        "a=np.array([1,2,3])\n",
        "print(a)\n",
        "print(type(a))"
      ],
      "execution_count": null,
      "outputs": [
        {
          "output_type": "stream",
          "text": [
            "[1 2 3]\n",
            "<class 'numpy.ndarray'>\n"
          ],
          "name": "stdout"
        }
      ]
    },
    {
      "cell_type": "markdown",
      "metadata": {
        "id": "ez21SSjBtBlc"
      },
      "source": [
        "nd array means: n dimension array\n",
        "\n",
        "\n",
        "---\n",
        "\n",
        "# 2-D Array"
      ]
    },
    {
      "cell_type": "code",
      "metadata": {
        "colab": {
          "base_uri": "https://localhost:8080/"
        },
        "id": "OcWAJR4AtM6W",
        "outputId": "e0ff4b5b-3772-49ee-8099-2238f4252e6d"
      },
      "source": [
        "a = np.array([[1,2,3],[10,20,30]])\n",
        "print(a)\n",
        "print(type(a))"
      ],
      "execution_count": null,
      "outputs": [
        {
          "output_type": "stream",
          "text": [
            "[[ 1  2  3]\n",
            " [10 20 30]]\n",
            "<class 'numpy.ndarray'>\n"
          ],
          "name": "stdout"
        }
      ]
    },
    {
      "cell_type": "code",
      "metadata": {
        "colab": {
          "base_uri": "https://localhost:8080/"
        },
        "id": "u9_8Jgs3tykS",
        "outputId": "bf0c174d-1c43-4cf8-aa33-64f10e3ae6f5"
      },
      "source": [
        "#this will create 2-D array of zeros\n",
        "#zeros creates an array of zero\n",
        "np.zeros((2,3)) "
      ],
      "execution_count": null,
      "outputs": [
        {
          "output_type": "execute_result",
          "data": {
            "text/plain": [
              "array([[0., 0., 0.],\n",
              "       [0., 0., 0.]])"
            ]
          },
          "metadata": {
            "tags": []
          },
          "execution_count": 8
        }
      ]
    },
    {
      "cell_type": "code",
      "metadata": {
        "colab": {
          "base_uri": "https://localhost:8080/"
        },
        "id": "-Qh78O-nuGr2",
        "outputId": "6983288f-4d97-41d1-f84a-4be310de3a8a"
      },
      "source": [
        "#this will create an array of an array a specific range\n",
        "np.arange(10)"
      ],
      "execution_count": null,
      "outputs": [
        {
          "output_type": "execute_result",
          "data": {
            "text/plain": [
              "array([0, 1, 2, 3, 4, 5, 6, 7, 8, 9])"
            ]
          },
          "metadata": {
            "tags": []
          },
          "execution_count": 10
        }
      ]
    },
    {
      "cell_type": "code",
      "metadata": {
        "colab": {
          "base_uri": "https://localhost:8080/"
        },
        "id": "44WGLTRHuhqD",
        "outputId": "46898828-d82d-40ba-edd0-642e17590839"
      },
      "source": [
        "#create array with item between range of 2 to 10  \n",
        "np.arange(2,10)"
      ],
      "execution_count": null,
      "outputs": [
        {
          "output_type": "execute_result",
          "data": {
            "text/plain": [
              "array([2, 3, 4, 5, 6, 7, 8, 9])"
            ]
          },
          "metadata": {
            "tags": []
          },
          "execution_count": 13
        }
      ]
    },
    {
      "cell_type": "code",
      "metadata": {
        "colab": {
          "base_uri": "https://localhost:8080/"
        },
        "id": "hfXW_3vcuSU9",
        "outputId": "73b2e52e-5ef9-45d1-8bf6-a827348e34fa"
      },
      "source": [
        "#it will create array from range 2 to 3 with 0.1 interval between the items\n",
        "np.arange(2,3,0.1)"
      ],
      "execution_count": null,
      "outputs": [
        {
          "output_type": "execute_result",
          "data": {
            "text/plain": [
              "array([2. , 2.1, 2.2, 2.3, 2.4, 2.5, 2.6, 2.7, 2.8, 2.9])"
            ]
          },
          "metadata": {
            "tags": []
          },
          "execution_count": 11
        }
      ]
    },
    {
      "cell_type": "code",
      "metadata": {
        "colab": {
          "base_uri": "https://localhost:8080/"
        },
        "id": "C1OMAKG5uoI_",
        "outputId": "2db1c565-09a6-4d81-9b6b-9d3495727bdc"
      },
      "source": [
        "#it will create an array strarting from 1 to 4 with 6 items and these 6 items will be equally spaced ( diiference between every 2 element will be the same)\n",
        "np.linspace(1,4,6)"
      ],
      "execution_count": null,
      "outputs": [
        {
          "output_type": "execute_result",
          "data": {
            "text/plain": [
              "array([1. , 1.6, 2.2, 2.8, 3.4, 4. ])"
            ]
          },
          "metadata": {
            "tags": []
          },
          "execution_count": 14
        }
      ]
    },
    {
      "cell_type": "code",
      "metadata": {
        "colab": {
          "base_uri": "https://localhost:8080/"
        },
        "id": "YXv-4-OkvHjS",
        "outputId": "c9c5c84a-eb47-445a-ee7a-64aef7fa1dd4"
      },
      "source": [
        "#it will create \n",
        "#Return an array representing the indices of a grid\n",
        "np.indices((3,3))"
      ],
      "execution_count": null,
      "outputs": [
        {
          "output_type": "execute_result",
          "data": {
            "text/plain": [
              "array([[[0, 0, 0],\n",
              "        [1, 1, 1],\n",
              "        [2, 2, 2]],\n",
              "\n",
              "       [[0, 1, 2],\n",
              "        [0, 1, 2],\n",
              "        [0, 1, 2]]])"
            ]
          },
          "metadata": {
            "tags": []
          },
          "execution_count": 15
        }
      ]
    },
    {
      "cell_type": "code",
      "metadata": {
        "colab": {
          "base_uri": "https://localhost:8080/"
        },
        "id": "5viGU_OHvbcI",
        "outputId": "c19c4051-17bd-4ff7-a8e1-2668d758d7ba"
      },
      "source": [
        "np.indices((2,2))"
      ],
      "execution_count": null,
      "outputs": [
        {
          "output_type": "execute_result",
          "data": {
            "text/plain": [
              "array([[[0, 0],\n",
              "        [1, 1]],\n",
              "\n",
              "       [[0, 1],\n",
              "        [0, 1]]])"
            ]
          },
          "metadata": {
            "tags": []
          },
          "execution_count": 16
        }
      ]
    },
    {
      "cell_type": "code",
      "metadata": {
        "colab": {
          "base_uri": "https://localhost:8080/"
        },
        "id": "mvMo9If4vlmr",
        "outputId": "52d6b978-4b39-40cf-e39e-511be90c6ea5"
      },
      "source": [
        "a=np.array([1,2,3])\n",
        "print(a)"
      ],
      "execution_count": null,
      "outputs": [
        {
          "output_type": "stream",
          "text": [
            "[1 2 3]\n"
          ],
          "name": "stdout"
        }
      ]
    },
    {
      "cell_type": "code",
      "metadata": {
        "colab": {
          "base_uri": "https://localhost:8080/"
        },
        "id": "j4wiDvkevuvk",
        "outputId": "b38f1356-4e2d-4e63-9e43-b59c208feaaa"
      },
      "source": [
        "#this fucntion return the datatype of the elements\n",
        "print(a.dtype)"
      ],
      "execution_count": null,
      "outputs": [
        {
          "output_type": "stream",
          "text": [
            "int64\n"
          ],
          "name": "stdout"
        }
      ]
    },
    {
      "cell_type": "markdown",
      "metadata": {
        "id": "9jYSB3U8wDYk"
      },
      "source": [
        "# List v/s Numpy array\n",
        "\n",
        "\n",
        "*   numpy array uses less memory then list\n",
        "* numpy is more convenient\n",
        "* faster than list\n",
        "\n"
      ]
    },
    {
      "cell_type": "markdown",
      "metadata": {
        "id": "wyFTBCo1xyhh"
      },
      "source": [
        "# less memory use example"
      ]
    },
    {
      "cell_type": "code",
      "metadata": {
        "colab": {
          "base_uri": "https://localhost:8080/"
        },
        "id": "gChSO9Ssv541",
        "outputId": "3b9e034c-b961-41fd-e31d-684b1fcfa4f0"
      },
      "source": [
        "import numpy as np\n",
        "\n",
        "l=range(1000)\n",
        "\n",
        "# this module is used to calculate size\n",
        "import sys\n",
        "a=10\n",
        "print(sys.getsizeof(a)) #memory alocallted to a\n",
        "\n",
        "#here, one int value takes 28 bytes in a list \n",
        "print(sys.getsizeof(a)*len(l))\n",
        "\n",
        "a1=np.arange(1000)\n",
        "print(a1.size)\n",
        "\n",
        "#to check each item in numpy array \n",
        "print(a1.size*a1.itemsize)"
      ],
      "execution_count": null,
      "outputs": [
        {
          "output_type": "stream",
          "text": [
            "28\n",
            "28000\n",
            "1000\n",
            "8000\n"
          ],
          "name": "stdout"
        }
      ]
    },
    {
      "cell_type": "markdown",
      "metadata": {
        "id": "yRgkhpbGx2nB"
      },
      "source": [
        "# how numpy is faster"
      ]
    },
    {
      "cell_type": "code",
      "metadata": {
        "colab": {
          "base_uri": "https://localhost:8080/"
        },
        "id": "kWNs2XWbyYK1",
        "outputId": "19b2a900-9109-4cab-c76d-b7bfeca4a553"
      },
      "source": [
        "#\n",
        "\n",
        "import time\n",
        "import sys\n",
        "\n",
        "size = 1000000\n",
        "l1=range(size)\n",
        "l2=range(size)\n",
        "\n",
        "#starting timer\n",
        "start=time.time()\n",
        "#2 iterator are taken, inside zip we put both the list, one element from l1 will be put in x and one element from l2 will be put in y\n",
        "result=[(x+y) for x,y in zip(l1,l2)]\n",
        "#subtracting the when loop began with after excution of loop\n",
        "print((time.time()-start)*1000)\n",
        "\n",
        "n1=np.arange(size)\n",
        "n2=np.arange(size)\n",
        "\n",
        "#starting timer\n",
        "start=time.time()\n",
        "\n",
        "result=n1+n2\n",
        "#subtracting the when loop began with after excution of loop\n",
        "#time is in micro sec that we mutlipled it to 1000\n",
        "print((time.time()-start)*1000)\n"
      ],
      "execution_count": null,
      "outputs": [
        {
          "output_type": "stream",
          "text": [
            "116.2574291229248\n",
            "14.87278938293457\n"
          ],
          "name": "stdout"
        }
      ]
    },
    {
      "cell_type": "markdown",
      "metadata": {
        "id": "cHpOorES0ZyC"
      },
      "source": [
        "# numpy operations"
      ]
    },
    {
      "cell_type": "code",
      "metadata": {
        "colab": {
          "base_uri": "https://localhost:8080/"
        },
        "id": "zDQXiLuL0Sms",
        "outputId": "860a1ea4-abc4-44b8-95be-af09cd2d7f6a"
      },
      "source": [
        "a=np.array([[1,2,3],[10,20,30]])\n",
        "print(a.ndim)"
      ],
      "execution_count": null,
      "outputs": [
        {
          "output_type": "stream",
          "text": [
            "2\n"
          ],
          "name": "stdout"
        }
      ]
    },
    {
      "cell_type": "code",
      "metadata": {
        "colab": {
          "base_uri": "https://localhost:8080/"
        },
        "id": "3keFNFKI0yn8",
        "outputId": "21e8a99b-6229-46e5-b3f2-58ac9ac564ff"
      },
      "source": [
        "#size of one item\n",
        "print(a.itemsize)"
      ],
      "execution_count": null,
      "outputs": [
        {
          "output_type": "stream",
          "text": [
            "8\n"
          ],
          "name": "stdout"
        }
      ]
    },
    {
      "cell_type": "code",
      "metadata": {
        "colab": {
          "base_uri": "https://localhost:8080/"
        },
        "id": "Ygx1s-Sr04i6",
        "outputId": "cd765b7b-3a7c-4320-d277-e00c3c4ba913"
      },
      "source": [
        "#return data type of item\n",
        "print(a.dtype)"
      ],
      "execution_count": null,
      "outputs": [
        {
          "output_type": "stream",
          "text": [
            "int64\n"
          ],
          "name": "stdout"
        }
      ]
    },
    {
      "cell_type": "code",
      "metadata": {
        "colab": {
          "base_uri": "https://localhost:8080/"
        },
        "id": "rdHclwBH0_iS",
        "outputId": "1111660f-8264-4fe3-c42e-26a4d1a97ecc"
      },
      "source": [
        "#return no row and column\n",
        "print(a.shape)"
      ],
      "execution_count": null,
      "outputs": [
        {
          "output_type": "stream",
          "text": [
            "(2, 3)\n"
          ],
          "name": "stdout"
        }
      ]
    },
    {
      "cell_type": "code",
      "metadata": {
        "colab": {
          "base_uri": "https://localhost:8080/"
        },
        "id": "WGAeqF3v1E2E",
        "outputId": "694cb31d-8e45-4d8f-e7d2-0962058a1cb3"
      },
      "source": [
        "# return total no element\n",
        "print(a.size)"
      ],
      "execution_count": null,
      "outputs": [
        {
          "output_type": "stream",
          "text": [
            "6\n"
          ],
          "name": "stdout"
        }
      ]
    },
    {
      "cell_type": "markdown",
      "metadata": {
        "id": "L5xKmkSv1OUt"
      },
      "source": [
        "# reshape"
      ]
    },
    {
      "cell_type": "code",
      "metadata": {
        "colab": {
          "base_uri": "https://localhost:8080/"
        },
        "id": "RQuKvW4d1IFM",
        "outputId": "2d422c82-16e6-4e0e-879e-e51d7b8b4bdc"
      },
      "source": [
        "#reshape() is used change the number of rows and column\n",
        "a.reshape(3,2)\n",
        "#move from left to right"
      ],
      "execution_count": null,
      "outputs": [
        {
          "output_type": "execute_result",
          "data": {
            "text/plain": [
              "array([[ 1,  2],\n",
              "       [ 3, 10],\n",
              "       [20, 30]])"
            ]
          },
          "metadata": {
            "tags": []
          },
          "execution_count": 38
        }
      ]
    },
    {
      "cell_type": "markdown",
      "metadata": {
        "id": "8L9UQn901mCv"
      },
      "source": [
        "#slicing a numpy array"
      ]
    },
    {
      "cell_type": "code",
      "metadata": {
        "colab": {
          "base_uri": "https://localhost:8080/"
        },
        "id": "JcOtzNqC1rrg",
        "outputId": "d84e6bb2-c1df-4dd9-e6a8-e34b5f3d57b6"
      },
      "source": [
        "a"
      ],
      "execution_count": null,
      "outputs": [
        {
          "output_type": "execute_result",
          "data": {
            "text/plain": [
              "array([[ 1,  2,  3],\n",
              "       [10, 20, 30]])"
            ]
          },
          "metadata": {
            "tags": []
          },
          "execution_count": 39
        }
      ]
    },
    {
      "cell_type": "code",
      "metadata": {
        "colab": {
          "base_uri": "https://localhost:8080/"
        },
        "id": "pQ4-WyNa1wDY",
        "outputId": "a0d34aba-c460-4514-b434-5c0449a1323b"
      },
      "source": [
        "a[0,0]"
      ],
      "execution_count": null,
      "outputs": [
        {
          "output_type": "execute_result",
          "data": {
            "text/plain": [
              "1"
            ]
          },
          "metadata": {
            "tags": []
          },
          "execution_count": 40
        }
      ]
    },
    {
      "cell_type": "code",
      "metadata": {
        "colab": {
          "base_uri": "https://localhost:8080/"
        },
        "id": "o8uctE8F1yUu",
        "outputId": "b854d2bb-e290-4d8e-ccb3-b9400807a71c"
      },
      "source": [
        "a[0,1]"
      ],
      "execution_count": null,
      "outputs": [
        {
          "output_type": "execute_result",
          "data": {
            "text/plain": [
              "2"
            ]
          },
          "metadata": {
            "tags": []
          },
          "execution_count": 41
        }
      ]
    },
    {
      "cell_type": "code",
      "metadata": {
        "colab": {
          "base_uri": "https://localhost:8080/"
        },
        "id": "JwHlXaF314gb",
        "outputId": "355be716-f4a1-4773-cd41-11ece2d7967e"
      },
      "source": [
        "#return all the element from all the row and 1st column\n",
        "#a[0:,1] means consider all row( starting from 0) and return value of 1st column\n",
        "a[0:,1]"
      ],
      "execution_count": null,
      "outputs": [
        {
          "output_type": "execute_result",
          "data": {
            "text/plain": [
              "array([ 2, 20])"
            ]
          },
          "metadata": {
            "tags": []
          },
          "execution_count": 42
        }
      ]
    },
    {
      "cell_type": "code",
      "metadata": {
        "colab": {
          "base_uri": "https://localhost:8080/"
        },
        "id": "PxhpbiCH2gtD",
        "outputId": "72339f48-7ef4-4115-841c-c0a90a8539dd"
      },
      "source": [
        "#select row from 0 to 2 and column after 3\n",
        "a[0:2,1:]"
      ],
      "execution_count": null,
      "outputs": [
        {
          "output_type": "execute_result",
          "data": {
            "text/plain": [
              "array([[ 2,  3],\n",
              "       [20, 30]])"
            ]
          },
          "metadata": {
            "tags": []
          },
          "execution_count": 43
        }
      ]
    },
    {
      "cell_type": "code",
      "metadata": {
        "colab": {
          "base_uri": "https://localhost:8080/"
        },
        "id": "bU0rkyLO3LgI",
        "outputId": "d8fec386-3244-4355-873e-7d0dd06870b4"
      },
      "source": [
        "a=np.array([[1,2,3,4,5],[10,20,30,40,50]])\n",
        "print(a.shape)"
      ],
      "execution_count": null,
      "outputs": [
        {
          "output_type": "stream",
          "text": [
            "(2, 5)\n"
          ],
          "name": "stdout"
        }
      ]
    },
    {
      "cell_type": "code",
      "metadata": {
        "colab": {
          "base_uri": "https://localhost:8080/"
        },
        "id": "f0_IbvnX3qkM",
        "outputId": "02207884-7236-46f5-a0c0-2edcb782fc78"
      },
      "source": [
        "print(a.min())"
      ],
      "execution_count": null,
      "outputs": [
        {
          "output_type": "stream",
          "text": [
            "1\n"
          ],
          "name": "stdout"
        }
      ]
    },
    {
      "cell_type": "code",
      "metadata": {
        "colab": {
          "base_uri": "https://localhost:8080/"
        },
        "id": "s0cJJKjX3tjo",
        "outputId": "b4bd8553-5e77-4cf5-890c-feb7a5fcbc4c"
      },
      "source": [
        "print(a.max())"
      ],
      "execution_count": null,
      "outputs": [
        {
          "output_type": "stream",
          "text": [
            "50\n"
          ],
          "name": "stdout"
        }
      ]
    },
    {
      "cell_type": "code",
      "metadata": {
        "colab": {
          "base_uri": "https://localhost:8080/"
        },
        "id": "QrTNYPZX3wRj",
        "outputId": "9898e37e-0e8a-45b6-b964-d68c3755daab"
      },
      "source": [
        "print(a.sum())"
      ],
      "execution_count": null,
      "outputs": [
        {
          "output_type": "stream",
          "text": [
            "165\n"
          ],
          "name": "stdout"
        }
      ]
    },
    {
      "cell_type": "code",
      "metadata": {
        "colab": {
          "base_uri": "https://localhost:8080/"
        },
        "id": "i-vNC4M54SV4",
        "outputId": "c7e2a8b8-5f02-4b38-9db2-6c95b5bf9e01"
      },
      "source": [
        "\n",
        "print(a)\n",
        "print(\"---sum fun---\")\n",
        "#axis=0 means sum will becolumn wise\n",
        "print(np.sum(a,axis=0))\n",
        "#axis=1 means sum will be row wise\n",
        "print(np.sum(a,axis=1))"
      ],
      "execution_count": null,
      "outputs": [
        {
          "output_type": "stream",
          "text": [
            "[[ 1  2  3  4  5]\n",
            " [10 20 30 40 50]]\n",
            "---sum fun---\n",
            "[11 22 33 44 55]\n",
            "[ 15 150]\n"
          ],
          "name": "stdout"
        }
      ]
    },
    {
      "cell_type": "code",
      "metadata": {
        "colab": {
          "base_uri": "https://localhost:8080/"
        },
        "id": "YTv80zQs4lYB",
        "outputId": "b2c61429-3eaa-4245-add8-651c1e63615e"
      },
      "source": [
        "#array mathematical operation\n",
        "import numpy as np\n",
        "\n",
        "x=np.array([[1,2],[3,4]])\n",
        "y=np.array([[5,6],[7,8]])\n",
        "\n",
        "print(x)\n",
        "print(y)\n",
        "\n",
        "print(\"----addition--------\")\n",
        "#element wise sum\n",
        "print(x+y)\n",
        "print(np.add(x,y))\n",
        "\n",
        "print(\"-----subtraction------\")\n",
        "#subtraction\n",
        "print(x-y)\n",
        "print(np.subtract(x,y))\n",
        "\n",
        "#"
      ],
      "execution_count": null,
      "outputs": [
        {
          "output_type": "stream",
          "text": [
            "[[1 2]\n",
            " [3 4]]\n",
            "[[5 6]\n",
            " [7 8]]\n",
            "----addition--------\n",
            "[[ 6  8]\n",
            " [10 12]]\n",
            "[[ 6  8]\n",
            " [10 12]]\n",
            "-----subtraction------\n",
            "[[-4 -4]\n",
            " [-4 -4]]\n",
            "[[-4 -4]\n",
            " [-4 -4]]\n"
          ],
          "name": "stdout"
        }
      ]
    },
    {
      "cell_type": "code",
      "metadata": {
        "colab": {
          "base_uri": "https://localhost:8080/"
        },
        "id": "s-Qjv0wt70B6",
        "outputId": "a96b1a1f-a4a5-4144-d315-38c31f124ad8"
      },
      "source": [
        "print(a)"
      ],
      "execution_count": null,
      "outputs": [
        {
          "output_type": "stream",
          "text": [
            "[[ 1  2  3  4  5]\n",
            " [10 20 30 40 50]]\n"
          ],
          "name": "stdout"
        }
      ]
    },
    {
      "cell_type": "code",
      "metadata": {
        "colab": {
          "base_uri": "https://localhost:8080/"
        },
        "id": "5gDpYmsk8ETY",
        "outputId": "c115ae44-f0c4-4311-c341-3454dafc4b64"
      },
      "source": [
        "#convert 2d array to 1 d array\n",
        "print(a.flatten())"
      ],
      "execution_count": null,
      "outputs": [
        {
          "output_type": "stream",
          "text": [
            "[ 1  2  3  4  5 10 20 30 40 50]\n"
          ],
          "name": "stdout"
        }
      ]
    },
    {
      "cell_type": "markdown",
      "metadata": {
        "id": "1vBwD_eA8Sll"
      },
      "source": [
        "#pandas\n",
        "\n",
        "*   used for data manipulation\n",
        "*   data analysis\n",
        "* generally used with tabular data \n",
        "* unlabelled data\n",
        "\n",
        "\n"
      ]
    },
    {
      "cell_type": "markdown",
      "metadata": {
        "id": "4_bWplpJ_hiC"
      },
      "source": [
        "Install panda\n",
        "\n",
        "\n",
        "*   using cmd : pip install pandas\n",
        "*   List item\n",
        "\n"
      ]
    },
    {
      "cell_type": "code",
      "metadata": {
        "colab": {
          "base_uri": "https://localhost:8080/"
        },
        "id": "Z3vl6406_w4R",
        "outputId": "827e1971-bd6d-4d73-d128-4f64ea544bed"
      },
      "source": [
        "pip install pandas"
      ],
      "execution_count": null,
      "outputs": [
        {
          "output_type": "stream",
          "text": [
            "Requirement already satisfied: pandas in /usr/local/lib/python3.7/dist-packages (1.1.5)\n",
            "Requirement already satisfied: numpy>=1.15.4 in /usr/local/lib/python3.7/dist-packages (from pandas) (1.19.5)\n",
            "Requirement already satisfied: pytz>=2017.2 in /usr/local/lib/python3.7/dist-packages (from pandas) (2018.9)\n",
            "Requirement already satisfied: python-dateutil>=2.7.3 in /usr/local/lib/python3.7/dist-packages (from pandas) (2.8.1)\n",
            "Requirement already satisfied: six>=1.5 in /usr/local/lib/python3.7/dist-packages (from python-dateutil>=2.7.3->pandas) (1.15.0)\n"
          ],
          "name": "stdout"
        }
      ]
    },
    {
      "cell_type": "markdown",
      "metadata": {
        "id": "ALSP6NNTANV5"
      },
      "source": [
        "series:\n",
        "\n",
        "\n",
        "*  \n",
        "*   List item\n",
        "\n",
        "\n",
        "\n",
        "\n",
        "---\n",
        "frames\n"
      ]
    },
    {
      "cell_type": "code",
      "metadata": {
        "colab": {
          "base_uri": "https://localhost:8080/"
        },
        "id": "1oqMZCwc_36X",
        "outputId": "226af4f9-2777-43fa-b55e-db6877ec3b4a"
      },
      "source": [
        "import pandas as pd\n",
        "import numpy as np\n",
        "\n",
        "a= np.array(['b','a','n','s','h','i'])\n",
        "#converting numpy array to pandas series\n",
        "p=pd.Series(a)\n",
        "print(p)"
      ],
      "execution_count": null,
      "outputs": [
        {
          "output_type": "stream",
          "text": [
            "0    b\n",
            "1    a\n",
            "2    n\n",
            "3    s\n",
            "4    h\n",
            "5    i\n",
            "dtype: object\n"
          ],
          "name": "stdout"
        }
      ]
    },
    {
      "cell_type": "code",
      "metadata": {
        "colab": {
          "base_uri": "https://localhost:8080/"
        },
        "id": "lg617rbABoMC",
        "outputId": "9b1cc7e2-368e-483b-b348-b27c915f9e38"
      },
      "source": [
        "#random is written twice ​because it's random function from random category of numpy\n",
        "s1=pd.Series(np.random.random(5),index=['a','b','c','d','e'])\n",
        "print(s1)"
      ],
      "execution_count": null,
      "outputs": [
        {
          "output_type": "stream",
          "text": [
            "a    0.983164\n",
            "b    0.752692\n",
            "c    0.039885\n",
            "d    0.353619\n",
            "e    0.023463\n",
            "dtype: float64\n"
          ],
          "name": "stdout"
        }
      ]
    },
    {
      "cell_type": "code",
      "metadata": {
        "colab": {
          "base_uri": "https://localhost:8080/"
        },
        "id": "_05ji_76CtYH",
        "outputId": "12857339-9d49-4e2c-98d7-929a8f3f13e9"
      },
      "source": [
        "data={'pi':3.14,'e':2.71}\n",
        "print(data)\n",
        "s=pd.Series(data)\n",
        "print(s)\n"
      ],
      "execution_count": null,
      "outputs": [
        {
          "output_type": "stream",
          "text": [
            "{'pi': 3.14, 'e': 2.71}\n",
            "pi    3.14\n",
            "e     2.71\n",
            "dtype: float64\n"
          ],
          "name": "stdout"
        }
      ]
    },
    {
      "cell_type": "code",
      "metadata": {
        "colab": {
          "base_uri": "https://localhost:8080/"
        },
        "id": "U3bz3tc0DCTy",
        "outputId": "47fd8775-1c9c-4cde-b1ff-5d4f6057bc5a"
      },
      "source": [
        "#accessing element using index\n",
        "s1[1]"
      ],
      "execution_count": null,
      "outputs": [
        {
          "output_type": "execute_result",
          "data": {
            "text/plain": [
              "0.752692077055733"
            ]
          },
          "metadata": {
            "tags": []
          },
          "execution_count": 72
        }
      ]
    }
  ]
}