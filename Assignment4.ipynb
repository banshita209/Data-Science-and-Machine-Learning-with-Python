{
  "nbformat": 4,
  "nbformat_minor": 0,
  "metadata": {
    "colab": {
      "name": "Assignment4.ipynb",
      "provenance": [],
      "collapsed_sections": [],
      "authorship_tag": "ABX9TyN1SfiHCoHoJL/9568w8ftX",
      "include_colab_link": true
    },
    "kernelspec": {
      "display_name": "Python 3",
      "name": "python3"
    },
    "language_info": {
      "name": "python"
    }
  },
  "cells": [
    {
      "cell_type": "markdown",
      "metadata": {
        "id": "view-in-github",
        "colab_type": "text"
      },
      "source": [
        "<a href=\"https://colab.research.google.com/github/banshita209/Data-Science-and-Machine-Learning-with-Python/blob/master/Assignment4.ipynb\" target=\"_parent\"><img src=\"https://colab.research.google.com/assets/colab-badge.svg\" alt=\"Open In Colab\"/></a>"
      ]
    },
    {
      "cell_type": "markdown",
      "metadata": {
        "id": "GIt_e1Oor_s8"
      },
      "source": [
        "# Import the numpy package under the name np and Print the numpy version and the configuration "
      ]
    },
    {
      "cell_type": "code",
      "metadata": {
        "colab": {
          "base_uri": "https://localhost:8080/"
        },
        "id": "3bbvFPxErpAJ",
        "outputId": "c09b985f-b47e-4e3b-aa34-536fa7b626ec"
      },
      "source": [
        "pip install numpy"
      ],
      "execution_count": null,
      "outputs": [
        {
          "output_type": "stream",
          "text": [
            "Requirement already satisfied: numpy in /usr/local/lib/python3.7/dist-packages (1.19.5)\n"
          ],
          "name": "stdout"
        }
      ]
    },
    {
      "cell_type": "code",
      "metadata": {
        "colab": {
          "base_uri": "https://localhost:8080/",
          "height": 35
        },
        "id": "RXxG0L3nspWK",
        "outputId": "99affbfc-5498-4a6c-e554-9cc6791df4be"
      },
      "source": [
        "import numpy as np\n",
        "np.__version__"
      ],
      "execution_count": 2,
      "outputs": [
        {
          "output_type": "execute_result",
          "data": {
            "application/vnd.google.colaboratory.intrinsic+json": {
              "type": "string"
            },
            "text/plain": [
              "'1.19.5'"
            ]
          },
          "metadata": {
            "tags": []
          },
          "execution_count": 2
        }
      ]
    },
    {
      "cell_type": "markdown",
      "metadata": {
        "id": "vf-H7VgIsxnj"
      },
      "source": [
        "# Create a null vector of size 10"
      ]
    },
    {
      "cell_type": "code",
      "metadata": {
        "colab": {
          "base_uri": "https://localhost:8080/"
        },
        "id": "vryOG6ZLs0tP",
        "outputId": "f8da26e9-585a-4dc8-b970-1961c98b3c2f"
      },
      "source": [
        "l=np.zeros(10)\n",
        "l"
      ],
      "execution_count": null,
      "outputs": [
        {
          "output_type": "execute_result",
          "data": {
            "text/plain": [
              "array([0., 0., 0., 0., 0., 0., 0., 0., 0., 0.])"
            ]
          },
          "metadata": {
            "tags": []
          },
          "execution_count": 4
        }
      ]
    },
    {
      "cell_type": "markdown",
      "metadata": {
        "id": "X5eZBmBqtCHx"
      },
      "source": [
        "# Create Simple 1-D array and check type and check data types in array"
      ]
    },
    {
      "cell_type": "code",
      "metadata": {
        "colab": {
          "base_uri": "https://localhost:8080/"
        },
        "id": "tme4Ne2CtBPm",
        "outputId": "82879fd7-8e0b-49ff-ec25-f959d184f17f"
      },
      "source": [
        "a=np.array([1,2,3,4])\n",
        "print(a.dtype)"
      ],
      "execution_count": null,
      "outputs": [
        {
          "output_type": "stream",
          "text": [
            "int64\n"
          ],
          "name": "stdout"
        }
      ]
    },
    {
      "cell_type": "markdown",
      "metadata": {
        "id": "lM6mzvI0ttMP"
      },
      "source": [
        "# How to find number of dimensions, bytes per element and bytes of memory used?"
      ]
    },
    {
      "cell_type": "code",
      "metadata": {
        "colab": {
          "base_uri": "https://localhost:8080/"
        },
        "id": "0nCNkPzPtxGu",
        "outputId": "0638a344-de86-4042-b186-8bb9ab217ae4"
      },
      "source": [
        "b=np.arange(100)\n",
        "print(\"-----arrray---\")\n",
        "print(b)\n",
        "print(\"=\"*50)\n",
        "print(\"Dimension of array :\",b.ndim)\n",
        "print(\"Memory used :\",b.itemsize*b.size)"
      ],
      "execution_count": null,
      "outputs": [
        {
          "output_type": "stream",
          "text": [
            "-----arrray---\n",
            "[ 0  1  2  3  4  5  6  7  8  9 10 11 12 13 14 15 16 17 18 19 20 21 22 23\n",
            " 24 25 26 27 28 29 30 31 32 33 34 35 36 37 38 39 40 41 42 43 44 45 46 47\n",
            " 48 49 50 51 52 53 54 55 56 57 58 59 60 61 62 63 64 65 66 67 68 69 70 71\n",
            " 72 73 74 75 76 77 78 79 80 81 82 83 84 85 86 87 88 89 90 91 92 93 94 95\n",
            " 96 97 98 99]\n",
            "==================================================\n",
            "Dimension of array : 1\n",
            "Memory used : 800\n"
          ],
          "name": "stdout"
        }
      ]
    },
    {
      "cell_type": "markdown",
      "metadata": {
        "id": "BOXVC20uunHY"
      },
      "source": [
        "# Create a null vector of size 10 but the fifth value which is 1"
      ]
    },
    {
      "cell_type": "code",
      "metadata": {
        "colab": {
          "base_uri": "https://localhost:8080/"
        },
        "id": "NZg1f_8tumYY",
        "outputId": "d30ce1aa-59c5-4d70-cd9e-70e65041cc56"
      },
      "source": [
        "a=np.zeros(10)\n",
        "a[4]=1\n",
        "print(a)"
      ],
      "execution_count": null,
      "outputs": [
        {
          "output_type": "stream",
          "text": [
            "[0. 0. 0. 0. 1. 0. 0. 0. 0. 0.]\n"
          ],
          "name": "stdout"
        }
      ]
    },
    {
      "cell_type": "markdown",
      "metadata": {
        "id": "vaqGDrlrvKL-"
      },
      "source": [
        "#Create a vector with values ranging from 10 to 49"
      ]
    },
    {
      "cell_type": "code",
      "metadata": {
        "colab": {
          "base_uri": "https://localhost:8080/"
        },
        "id": "-1G5DVegvVSD",
        "outputId": "fd3d237c-3cf9-4e36-b935-3d0fd8dc09a9"
      },
      "source": [
        "a=np.arange(10,50)\n",
        "a"
      ],
      "execution_count": null,
      "outputs": [
        {
          "output_type": "execute_result",
          "data": {
            "text/plain": [
              "array([10, 11, 12, 13, 14, 15, 16, 17, 18, 19, 20, 21, 22, 23, 24, 25, 26,\n",
              "       27, 28, 29, 30, 31, 32, 33, 34, 35, 36, 37, 38, 39, 40, 41, 42, 43,\n",
              "       44, 45, 46, 47, 48, 49])"
            ]
          },
          "metadata": {
            "tags": []
          },
          "execution_count": 17
        }
      ]
    },
    {
      "cell_type": "markdown",
      "metadata": {
        "id": "pU0DhDsDvdF9"
      },
      "source": [
        "# Reverse a vector (first element becomes last)"
      ]
    },
    {
      "cell_type": "code",
      "metadata": {
        "colab": {
          "base_uri": "https://localhost:8080/"
        },
        "id": "4FobabLIvcRt",
        "outputId": "42a45ab4-0117-4e04-8cc8-ea554a490cc4"
      },
      "source": [
        "sorted(a,reverse=True)"
      ],
      "execution_count": null,
      "outputs": [
        {
          "output_type": "execute_result",
          "data": {
            "text/plain": [
              "[49,\n",
              " 48,\n",
              " 47,\n",
              " 46,\n",
              " 45,\n",
              " 44,\n",
              " 43,\n",
              " 42,\n",
              " 41,\n",
              " 40,\n",
              " 39,\n",
              " 38,\n",
              " 37,\n",
              " 36,\n",
              " 35,\n",
              " 34,\n",
              " 33,\n",
              " 32,\n",
              " 31,\n",
              " 30,\n",
              " 29,\n",
              " 28,\n",
              " 27,\n",
              " 26,\n",
              " 25,\n",
              " 24,\n",
              " 23,\n",
              " 22,\n",
              " 21,\n",
              " 20,\n",
              " 19,\n",
              " 18,\n",
              " 17,\n",
              " 16,\n",
              " 15,\n",
              " 14,\n",
              " 13,\n",
              " 12,\n",
              " 11,\n",
              " 10]"
            ]
          },
          "metadata": {
            "tags": []
          },
          "execution_count": 21
        }
      ]
    },
    {
      "cell_type": "code",
      "metadata": {
        "colab": {
          "base_uri": "https://localhost:8080/"
        },
        "id": "ykmKjRjLwDtb",
        "outputId": "b04d059e-0597-4703-f56d-7569d95d421b"
      },
      "source": [
        "a[:-1]"
      ],
      "execution_count": null,
      "outputs": [
        {
          "output_type": "execute_result",
          "data": {
            "text/plain": [
              "[49,\n",
              " 48,\n",
              " 47,\n",
              " 46,\n",
              " 45,\n",
              " 44,\n",
              " 43,\n",
              " 42,\n",
              " 41,\n",
              " 40,\n",
              " 39,\n",
              " 38,\n",
              " 37,\n",
              " 36,\n",
              " 35,\n",
              " 34,\n",
              " 33,\n",
              " 32,\n",
              " 31,\n",
              " 30,\n",
              " 29,\n",
              " 28,\n",
              " 27,\n",
              " 26,\n",
              " 25,\n",
              " 24,\n",
              " 23,\n",
              " 22,\n",
              " 21,\n",
              " 20,\n",
              " 19,\n",
              " 18,\n",
              " 17,\n",
              " 16,\n",
              " 15,\n",
              " 14,\n",
              " 13,\n",
              " 12,\n",
              " 11]"
            ]
          },
          "metadata": {
            "tags": []
          },
          "execution_count": 24
        }
      ]
    },
    {
      "cell_type": "markdown",
      "metadata": {
        "id": "XY9_UsE4wbqD"
      },
      "source": [
        "# Create a 3x3 matrix with values ranging from 0 to 8"
      ]
    },
    {
      "cell_type": "code",
      "metadata": {
        "colab": {
          "base_uri": "https://localhost:8080/"
        },
        "id": "aC1LBOBzwh8C",
        "outputId": "f77e3ac9-9870-41ef-d439-117a091fc4fe"
      },
      "source": [
        "c=np.arange(0,9).reshape(3,3)\n",
        "c"
      ],
      "execution_count": null,
      "outputs": [
        {
          "output_type": "execute_result",
          "data": {
            "text/plain": [
              "array([[0, 1, 2],\n",
              "       [3, 4, 5],\n",
              "       [6, 7, 8]])"
            ]
          },
          "metadata": {
            "tags": []
          },
          "execution_count": 26
        }
      ]
    },
    {
      "cell_type": "markdown",
      "metadata": {
        "id": "235udcOsxCk2"
      },
      "source": [
        "# Find indices of non-zero elements from [1,2,0,0,4,0]"
      ]
    },
    {
      "cell_type": "code",
      "metadata": {
        "colab": {
          "base_uri": "https://localhost:8080/"
        },
        "id": "XpCOahj7xJ8O",
        "outputId": "ba7f0455-3175-42d6-84a0-04294b732e31"
      },
      "source": [
        "a1=np.array([1,2,0,0,4,0])\n",
        "np.nonzero(a1)"
      ],
      "execution_count": null,
      "outputs": [
        {
          "output_type": "execute_result",
          "data": {
            "text/plain": [
              "(array([0, 1, 4]),)"
            ]
          },
          "metadata": {
            "tags": []
          },
          "execution_count": 28
        }
      ]
    },
    {
      "cell_type": "markdown",
      "metadata": {
        "id": "gff-8stlxCiO"
      },
      "source": [
        "# Create a 3x3 identity matrix"
      ]
    },
    {
      "cell_type": "code",
      "metadata": {
        "colab": {
          "base_uri": "https://localhost:8080/"
        },
        "id": "Prlfqzzkxx23",
        "outputId": "a9c5b7f6-0a81-4a2e-de2e-0f6d9139d723"
      },
      "source": [
        "a2=np.identity(3)\n",
        "a2"
      ],
      "execution_count": null,
      "outputs": [
        {
          "output_type": "execute_result",
          "data": {
            "text/plain": [
              "array([[1., 0., 0.],\n",
              "       [0., 1., 0.],\n",
              "       [0., 0., 1.]])"
            ]
          },
          "metadata": {
            "tags": []
          },
          "execution_count": 30
        }
      ]
    },
    {
      "cell_type": "markdown",
      "metadata": {
        "id": "0nGUpwmZyGxb"
      },
      "source": [
        "# Create a 3x3x3 array with random values"
      ]
    },
    {
      "cell_type": "code",
      "metadata": {
        "colab": {
          "base_uri": "https://localhost:8080/"
        },
        "id": "HMrlhe79yMX0",
        "outputId": "2a3a9ccb-961c-46be-9068-65845037f4bc"
      },
      "source": [
        "a3=np.random.random((3,3,3))\n",
        "a3"
      ],
      "execution_count": 3,
      "outputs": [
        {
          "output_type": "execute_result",
          "data": {
            "text/plain": [
              "array([[[0.81177332, 0.36959608, 0.36781937],\n",
              "        [0.8104156 , 0.61255145, 0.48840755],\n",
              "        [0.609042  , 0.49879086, 0.31881892]],\n",
              "\n",
              "       [[0.11490539, 0.91926045, 0.09550774],\n",
              "        [0.94732429, 0.33586025, 0.96837812],\n",
              "        [0.16310445, 0.97096353, 0.85748947]],\n",
              "\n",
              "       [[0.27065883, 0.2713411 , 0.49306203],\n",
              "        [0.88935627, 0.92443744, 0.37984721],\n",
              "        [0.06086712, 0.85638902, 0.23670046]]])"
            ]
          },
          "metadata": {
            "tags": []
          },
          "execution_count": 3
        }
      ]
    },
    {
      "cell_type": "markdown",
      "metadata": {
        "id": "twvT7noLvZW7"
      },
      "source": [
        "# Create a 10x10 array with random values and find the minimum and maximum values"
      ]
    },
    {
      "cell_type": "code",
      "metadata": {
        "colab": {
          "base_uri": "https://localhost:8080/"
        },
        "id": "L7L18Z9bvOAp",
        "outputId": "fd30b583-f0fd-419c-c052-b7b699f7382f"
      },
      "source": [
        "a4=np.random.random((10,10))\n",
        "print(a4)\n",
        "print(\"*\"*80)\n",
        "print(\"maximum in above array : \",a4.max())\n",
        "print(\"minimum in above array : \",a4.min())"
      ],
      "execution_count": 4,
      "outputs": [
        {
          "output_type": "stream",
          "text": [
            "[[0.30708233 0.15183362 0.33464944 0.97739827 0.23143584 0.52219754\n",
            "  0.52091781 0.53319301 0.04778048 0.7579727 ]\n",
            " [0.5071841  0.31003152 0.50960769 0.9978155  0.34631272 0.77120892\n",
            "  0.61513017 0.66025451 0.64595068 0.14341335]\n",
            " [0.55955665 0.56202611 0.4074005  0.55086706 0.75280356 0.82643618\n",
            "  0.00800223 0.9212785  0.30709429 0.72048679]\n",
            " [0.97063086 0.32812261 0.14800321 0.94755194 0.16389181 0.4100113\n",
            "  0.75112618 0.55216306 0.66473366 0.81281712]\n",
            " [0.6342575  0.73333291 0.75127619 0.58038194 0.05709662 0.80931364\n",
            "  0.91195108 0.53581176 0.70007037 0.76766228]\n",
            " [0.18824436 0.54078737 0.41950743 0.21139899 0.39226192 0.70769487\n",
            "  0.9898398  0.31517734 0.29426576 0.21086005]\n",
            " [0.76361625 0.37100038 0.39154151 0.34753928 0.37286002 0.16122804\n",
            "  0.93425006 0.7818365  0.10987792 0.08035967]\n",
            " [0.07998717 0.39818895 0.59460604 0.33644445 0.87132701 0.16792804\n",
            "  0.05562772 0.31718798 0.67221957 0.51087982]\n",
            " [0.52771893 0.15334139 0.8010841  0.44705762 0.69613857 0.39064802\n",
            "  0.2082211  0.25594343 0.23932711 0.98714733]\n",
            " [0.25045397 0.08617863 0.73642156 0.37324362 0.11988682 0.82628962\n",
            "  0.34787998 0.09430284 0.21587324 0.56335988]]\n",
            "********************************************************************************\n",
            "maximum in above array :  0.9978155044532528\n",
            "minimum in above array :  0.008002228651760368\n"
          ],
          "name": "stdout"
        }
      ]
    },
    {
      "cell_type": "markdown",
      "metadata": {
        "id": "uYhdydDuvf-Z"
      },
      "source": [
        "# Create a random vector of size 30 and find the mean value"
      ]
    },
    {
      "cell_type": "code",
      "metadata": {
        "colab": {
          "base_uri": "https://localhost:8080/"
        },
        "id": "KUUzOsKxvg2v",
        "outputId": "f52440cc-f939-4985-b7b4-fff2647228de"
      },
      "source": [
        "a5=np.random.random(10)\n",
        "print(a5)\n",
        "print(\"#\"*80)\n",
        "print(\"mean of the value of above array is  :\",a5.mean())"
      ],
      "execution_count": 5,
      "outputs": [
        {
          "output_type": "stream",
          "text": [
            "[0.68880466 0.19394296 0.72928377 0.53331147 0.46344041 0.82699988\n",
            " 0.63717682 0.54022021 0.98765058 0.92747639]\n",
            "################################################################################\n",
            "mean of the value of above array is  : 0.6528307149462835\n"
          ],
          "name": "stdout"
        }
      ]
    },
    {
      "cell_type": "markdown",
      "metadata": {
        "id": "Sd_hEj17vmxX"
      },
      "source": [
        "# Create a 2d array with 1 on the border and 0 inside"
      ]
    },
    {
      "cell_type": "code",
      "metadata": {
        "colab": {
          "base_uri": "https://localhost:8080/"
        },
        "id": "nQuqn4CQvn6U",
        "outputId": "a1b10c75-80c2-482b-8cad-58823d2235c1"
      },
      "source": [
        "\n",
        "#creates a 2d array of 4*4 with all 1's\n",
        "a6=np.ones((4,4))\n",
        "#print(a6)\n",
        "\n",
        "#for row : from 1st row upto last one \n",
        "#fro column : from 1st column upto last one \n",
        "a6[1:-1,1:-1]=0\n",
        "print(a6)"
      ],
      "execution_count": 6,
      "outputs": [
        {
          "output_type": "stream",
          "text": [
            "[[1. 1. 1. 1.]\n",
            " [1. 0. 0. 1.]\n",
            " [1. 0. 0. 1.]\n",
            " [1. 1. 1. 1.]]\n"
          ],
          "name": "stdout"
        }
      ]
    },
    {
      "cell_type": "markdown",
      "metadata": {
        "id": "emmypAdPvuUy"
      },
      "source": [
        "# How to add a border (filled with 0's) around an existing array? "
      ]
    },
    {
      "cell_type": "code",
      "metadata": {
        "colab": {
          "base_uri": "https://localhost:8080/"
        },
        "id": "2ACIyh5PvvS6",
        "outputId": "fdb55a1a-63d6-49b3-f75b-57b1d7f831a6"
      },
      "source": [
        "a6=np.pad(a6, pad_width=1, mode='constant', constant_values=0)\n",
        "print(a6)"
      ],
      "execution_count": 7,
      "outputs": [
        {
          "output_type": "stream",
          "text": [
            "[[0. 0. 0. 0. 0. 0.]\n",
            " [0. 1. 1. 1. 1. 0.]\n",
            " [0. 1. 0. 0. 1. 0.]\n",
            " [0. 1. 0. 0. 1. 0.]\n",
            " [0. 1. 1. 1. 1. 0.]\n",
            " [0. 0. 0. 0. 0. 0.]]\n"
          ],
          "name": "stdout"
        }
      ]
    },
    {
      "cell_type": "markdown",
      "metadata": {
        "id": "9XGGU2mrvzVm"
      },
      "source": [
        "# How to Accessing/Changing specific elements, rows, columns, etc in Numpy array?\n",
        "\n",
        "Example -\n",
        "[[ 1 2 3 4 5 6 7] [ 8 9 10 11 12 13 14]]\n",
        "\n",
        "Get 13, get first row only, get 3rd column only, get [2, 4, 6], replace 13 by 20"
      ]
    },
    {
      "cell_type": "code",
      "metadata": {
        "colab": {
          "base_uri": "https://localhost:8080/"
        },
        "id": "Pqgm2xodv2pE",
        "outputId": "336517fe-142b-455a-8faf-a7bcc659c646"
      },
      "source": [
        " a7=np.array([[ 1, 2, 3, 4, 5, 6, 7], [ 8, 9, 10, 11, 12, 13, 14]])\n",
        " print(a7)\n",
        "print(\"*\"*10,\"After updating the value\",\"*\"*10)\n",
        " a7[0,-2] = 20\n",
        " print(a7)\n",
        " print(\"1st row : \",a7[0])\n",
        " print(\"3rd column : \",a7[:,3])\n",
        " print(\"array's 2,4,6th columns : \",a7[0,1::2])\n"
      ],
      "execution_count": 11,
      "outputs": [
        {
          "output_type": "stream",
          "text": [
            "[[ 1  2  3  4  5  6  7]\n",
            " [ 8  9 10 11 12 13 14]]\n",
            "********** After updating the value **********\n",
            "[[ 1  2  3  4  5 20  7]\n",
            " [ 8  9 10 11 12 13 14]]\n",
            "1st row :  [ 1  2  3  4  5 20  7]\n",
            "3rd column :  [ 4 11]\n",
            "array's 2,4,6th columns :  [ 2  4 20]\n"
          ],
          "name": "stdout"
        }
      ]
    },
    {
      "cell_type": "markdown",
      "metadata": {
        "id": "wl_kZjy4wnyJ"
      },
      "source": [
        "# How to Convert a 1D array to a 2D array with 2 rows"
      ]
    },
    {
      "cell_type": "code",
      "metadata": {
        "colab": {
          "base_uri": "https://localhost:8080/"
        },
        "id": "rWOAMXLkwr-G",
        "outputId": "ff929951-100f-4db2-cc86-f1b14e755aee"
      },
      "source": [
        "a8=np.array([[ 1, 2, 3, 4, 5, 6, 7], [ 8, 9, 10, 11, 12, 13, 14]])\n",
        "a8.flatten()"
      ],
      "execution_count": 12,
      "outputs": [
        {
          "output_type": "execute_result",
          "data": {
            "text/plain": [
              "array([ 1,  2,  3,  4,  5,  6,  7,  8,  9, 10, 11, 12, 13, 14])"
            ]
          },
          "metadata": {
            "tags": []
          },
          "execution_count": 12
        }
      ]
    },
    {
      "cell_type": "markdown",
      "metadata": {
        "id": "RLbpL7urwwWM"
      },
      "source": [
        "# Create the following pattern without hardcoding. Use only numpy functions and the below input array a."
      ]
    },
    {
      "cell_type": "code",
      "metadata": {
        "colab": {
          "base_uri": "https://localhost:8080/"
        },
        "id": "n4V_a2OCwSfC",
        "outputId": "2dec03f4-eddf-4510-cc4f-6589f23e914b"
      },
      "source": [
        "a = np.array([1,2,3])\n",
        "print(np.r_[(np.repeat(a, 3), np.tile(a, 3))])"
      ],
      "execution_count": 13,
      "outputs": [
        {
          "output_type": "stream",
          "text": [
            "[1 1 1 2 2 2 3 3 3 1 2 3 1 2 3 1 2 3]\n"
          ],
          "name": "stdout"
        }
      ]
    },
    {
      "cell_type": "markdown",
      "metadata": {
        "id": "eoJSn2alw4jE"
      },
      "source": [
        "# Write a program to show how Numpy taking less memory compared to Python List?"
      ]
    },
    {
      "cell_type": "code",
      "metadata": {
        "colab": {
          "base_uri": "https://localhost:8080/"
        },
        "id": "4EA2WFINw5xd",
        "outputId": "bbfab258-f984-4fc5-ee9e-3545afe08275"
      },
      "source": [
        "import numpy as np\n",
        "\n",
        "print(\"-\"*10,\"list\",\"-\"*10)\n",
        "l=range(1000)\n",
        "\n",
        "# this module is used to calculate size\n",
        "import sys\n",
        "a=10\n",
        "print(sys.getsizeof(a)) #memory alocallted to a\n",
        "\n",
        "#here, one int value takes 28 bytes in a list \n",
        "print(sys.getsizeof(a)*len(l))\n",
        "print(\"-\"*10,\"numpy array\",\"-\"*10)\n",
        "a1=np.arange(1000)\n",
        "print(a1.size)\n",
        "\n",
        "#to check each item in numpy array \n",
        "print(a1.size*a1.itemsize)"
      ],
      "execution_count": 14,
      "outputs": [
        {
          "output_type": "stream",
          "text": [
            "---------- list ----------\n",
            "28\n",
            "28000\n",
            "---------- numpy array ----------\n",
            "1000\n",
            "8000\n"
          ],
          "name": "stdout"
        }
      ]
    },
    {
      "cell_type": "markdown",
      "metadata": {
        "id": "wcPiM6NFw89e"
      },
      "source": [
        "# Write a program to show how Numpy taking less time compared to Python List?"
      ]
    },
    {
      "cell_type": "code",
      "metadata": {
        "colab": {
          "base_uri": "https://localhost:8080/"
        },
        "id": "vVQlwv6txA2o",
        "outputId": "471a31ea-948b-4e25-916f-36511d4b2582"
      },
      "source": [
        "import time\n",
        "import sys\n",
        "\n",
        "print(\"-\"*10,\"list\",\"-\"*10)\n",
        "size = 1000000\n",
        "l1=range(size)\n",
        "l2=range(size)\n",
        "\n",
        "#starting timer\n",
        "start=time.time()\n",
        "#2 iterator are taken, inside zip we put both the list, one element from l1 will be put in x and one element from l2 will be put in y\n",
        "result=[(x+y) for x,y in zip(l1,l2)]\n",
        "#subtracting the when loop began with after excution of loop\n",
        "print((time.time()-start)*1000)\n",
        "\n",
        "\n",
        "print(\"-\"*10,\"numpy array\",\"-\"*10)\n",
        "n1=np.arange(size)\n",
        "n2=np.arange(size)\n",
        "\n",
        "#starting timer\n",
        "start=time.time()\n",
        "\n",
        "result=n1+n2\n",
        "#subtracting the when loop began with after excution of loop\n",
        "#time is in micro sec that we mutlipled it to 1000\n",
        "print((time.time()-start)*1000)"
      ],
      "execution_count": 15,
      "outputs": [
        {
          "output_type": "stream",
          "text": [
            "---------- list ----------\n",
            "142.55189895629883\n",
            "---------- numpy array ----------\n",
            "17.191410064697266\n"
          ],
          "name": "stdout"
        }
      ]
    }
  ]
}