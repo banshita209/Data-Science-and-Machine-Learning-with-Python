{
  "nbformat": 4,
  "nbformat_minor": 0,
  "metadata": {
    "colab": {
      "name": "Assignment4.ipynb",
      "provenance": [],
      "authorship_tag": "ABX9TyOLrTOmAMkIn9IDcX5J80ye",
      "include_colab_link": true
    },
    "kernelspec": {
      "name": "python3",
      "display_name": "Python 3"
    },
    "language_info": {
      "name": "python"
    }
  },
  "cells": [
    {
      "cell_type": "markdown",
      "metadata": {
        "id": "view-in-github",
        "colab_type": "text"
      },
      "source": [
        "<a href=\"https://colab.research.google.com/github/banshita209/Data-Science-and-Machine-Learning-with-Python/blob/master/Assignment4.ipynb\" target=\"_parent\"><img src=\"https://colab.research.google.com/assets/colab-badge.svg\" alt=\"Open In Colab\"/></a>"
      ]
    },
    {
      "cell_type": "markdown",
      "metadata": {
        "id": "GIt_e1Oor_s8"
      },
      "source": [
        "# Import the numpy package under the name np and Print the numpy version and the configuration "
      ]
    },
    {
      "cell_type": "code",
      "metadata": {
        "colab": {
          "base_uri": "https://localhost:8080/"
        },
        "id": "3bbvFPxErpAJ",
        "outputId": "c09b985f-b47e-4e3b-aa34-536fa7b626ec"
      },
      "source": [
        "pip install numpy"
      ],
      "execution_count": 2,
      "outputs": [
        {
          "output_type": "stream",
          "text": [
            "Requirement already satisfied: numpy in /usr/local/lib/python3.7/dist-packages (1.19.5)\n"
          ],
          "name": "stdout"
        }
      ]
    },
    {
      "cell_type": "code",
      "metadata": {
        "colab": {
          "base_uri": "https://localhost:8080/",
          "height": 35
        },
        "id": "RXxG0L3nspWK",
        "outputId": "3f3a5816-cdaf-4fa0-c305-db1ce35f7a2a"
      },
      "source": [
        "import numpy as np\n",
        "np.__version__"
      ],
      "execution_count": 3,
      "outputs": [
        {
          "output_type": "execute_result",
          "data": {
            "application/vnd.google.colaboratory.intrinsic+json": {
              "type": "string"
            },
            "text/plain": [
              "'1.19.5'"
            ]
          },
          "metadata": {
            "tags": []
          },
          "execution_count": 3
        }
      ]
    },
    {
      "cell_type": "markdown",
      "metadata": {
        "id": "vf-H7VgIsxnj"
      },
      "source": [
        "# Create a null vector of size 10"
      ]
    },
    {
      "cell_type": "code",
      "metadata": {
        "colab": {
          "base_uri": "https://localhost:8080/"
        },
        "id": "vryOG6ZLs0tP",
        "outputId": "f8da26e9-585a-4dc8-b970-1961c98b3c2f"
      },
      "source": [
        "l=np.zeros(10)\n",
        "l"
      ],
      "execution_count": 4,
      "outputs": [
        {
          "output_type": "execute_result",
          "data": {
            "text/plain": [
              "array([0., 0., 0., 0., 0., 0., 0., 0., 0., 0.])"
            ]
          },
          "metadata": {
            "tags": []
          },
          "execution_count": 4
        }
      ]
    },
    {
      "cell_type": "markdown",
      "metadata": {
        "id": "X5eZBmBqtCHx"
      },
      "source": [
        "# Create Simple 1-D array and check type and check data types in array"
      ]
    },
    {
      "cell_type": "code",
      "metadata": {
        "colab": {
          "base_uri": "https://localhost:8080/"
        },
        "id": "tme4Ne2CtBPm",
        "outputId": "82879fd7-8e0b-49ff-ec25-f959d184f17f"
      },
      "source": [
        "a=np.array([1,2,3,4])\n",
        "print(a.dtype)"
      ],
      "execution_count": 5,
      "outputs": [
        {
          "output_type": "stream",
          "text": [
            "int64\n"
          ],
          "name": "stdout"
        }
      ]
    },
    {
      "cell_type": "markdown",
      "metadata": {
        "id": "lM6mzvI0ttMP"
      },
      "source": [
        "# How to find number of dimensions, bytes per element and bytes of memory used?"
      ]
    },
    {
      "cell_type": "code",
      "metadata": {
        "colab": {
          "base_uri": "https://localhost:8080/"
        },
        "id": "0nCNkPzPtxGu",
        "outputId": "0638a344-de86-4042-b186-8bb9ab217ae4"
      },
      "source": [
        "b=np.arange(100)\n",
        "print(\"-----arrray---\")\n",
        "print(b)\n",
        "print(\"=\"*50)\n",
        "print(\"Dimension of array :\",b.ndim)\n",
        "print(\"Memory used :\",b.itemsize*b.size)"
      ],
      "execution_count": 14,
      "outputs": [
        {
          "output_type": "stream",
          "text": [
            "-----arrray---\n",
            "[ 0  1  2  3  4  5  6  7  8  9 10 11 12 13 14 15 16 17 18 19 20 21 22 23\n",
            " 24 25 26 27 28 29 30 31 32 33 34 35 36 37 38 39 40 41 42 43 44 45 46 47\n",
            " 48 49 50 51 52 53 54 55 56 57 58 59 60 61 62 63 64 65 66 67 68 69 70 71\n",
            " 72 73 74 75 76 77 78 79 80 81 82 83 84 85 86 87 88 89 90 91 92 93 94 95\n",
            " 96 97 98 99]\n",
            "==================================================\n",
            "Dimension of array : 1\n",
            "Memory used : 800\n"
          ],
          "name": "stdout"
        }
      ]
    },
    {
      "cell_type": "markdown",
      "metadata": {
        "id": "BOXVC20uunHY"
      },
      "source": [
        "# Create a null vector of size 10 but the fifth value which is 1"
      ]
    },
    {
      "cell_type": "code",
      "metadata": {
        "colab": {
          "base_uri": "https://localhost:8080/"
        },
        "id": "NZg1f_8tumYY",
        "outputId": "d30ce1aa-59c5-4d70-cd9e-70e65041cc56"
      },
      "source": [
        "a=np.zeros(10)\n",
        "a[4]=1\n",
        "print(a)"
      ],
      "execution_count": 15,
      "outputs": [
        {
          "output_type": "stream",
          "text": [
            "[0. 0. 0. 0. 1. 0. 0. 0. 0. 0.]\n"
          ],
          "name": "stdout"
        }
      ]
    },
    {
      "cell_type": "markdown",
      "metadata": {
        "id": "vaqGDrlrvKL-"
      },
      "source": [
        "#Create a vector with values ranging from 10 to 49"
      ]
    },
    {
      "cell_type": "code",
      "metadata": {
        "colab": {
          "base_uri": "https://localhost:8080/"
        },
        "id": "-1G5DVegvVSD",
        "outputId": "fd3d237c-3cf9-4e36-b935-3d0fd8dc09a9"
      },
      "source": [
        "a=np.arange(10,50)\n",
        "a"
      ],
      "execution_count": 17,
      "outputs": [
        {
          "output_type": "execute_result",
          "data": {
            "text/plain": [
              "array([10, 11, 12, 13, 14, 15, 16, 17, 18, 19, 20, 21, 22, 23, 24, 25, 26,\n",
              "       27, 28, 29, 30, 31, 32, 33, 34, 35, 36, 37, 38, 39, 40, 41, 42, 43,\n",
              "       44, 45, 46, 47, 48, 49])"
            ]
          },
          "metadata": {
            "tags": []
          },
          "execution_count": 17
        }
      ]
    },
    {
      "cell_type": "markdown",
      "metadata": {
        "id": "pU0DhDsDvdF9"
      },
      "source": [
        "# Reverse a vector (first element becomes last)"
      ]
    },
    {
      "cell_type": "code",
      "metadata": {
        "colab": {
          "base_uri": "https://localhost:8080/"
        },
        "id": "4FobabLIvcRt",
        "outputId": "42a45ab4-0117-4e04-8cc8-ea554a490cc4"
      },
      "source": [
        "sorted(a,reverse=True)"
      ],
      "execution_count": 21,
      "outputs": [
        {
          "output_type": "execute_result",
          "data": {
            "text/plain": [
              "[49,\n",
              " 48,\n",
              " 47,\n",
              " 46,\n",
              " 45,\n",
              " 44,\n",
              " 43,\n",
              " 42,\n",
              " 41,\n",
              " 40,\n",
              " 39,\n",
              " 38,\n",
              " 37,\n",
              " 36,\n",
              " 35,\n",
              " 34,\n",
              " 33,\n",
              " 32,\n",
              " 31,\n",
              " 30,\n",
              " 29,\n",
              " 28,\n",
              " 27,\n",
              " 26,\n",
              " 25,\n",
              " 24,\n",
              " 23,\n",
              " 22,\n",
              " 21,\n",
              " 20,\n",
              " 19,\n",
              " 18,\n",
              " 17,\n",
              " 16,\n",
              " 15,\n",
              " 14,\n",
              " 13,\n",
              " 12,\n",
              " 11,\n",
              " 10]"
            ]
          },
          "metadata": {
            "tags": []
          },
          "execution_count": 21
        }
      ]
    },
    {
      "cell_type": "code",
      "metadata": {
        "colab": {
          "base_uri": "https://localhost:8080/"
        },
        "id": "ykmKjRjLwDtb",
        "outputId": "b04d059e-0597-4703-f56d-7569d95d421b"
      },
      "source": [
        "a[:-1]"
      ],
      "execution_count": 24,
      "outputs": [
        {
          "output_type": "execute_result",
          "data": {
            "text/plain": [
              "[49,\n",
              " 48,\n",
              " 47,\n",
              " 46,\n",
              " 45,\n",
              " 44,\n",
              " 43,\n",
              " 42,\n",
              " 41,\n",
              " 40,\n",
              " 39,\n",
              " 38,\n",
              " 37,\n",
              " 36,\n",
              " 35,\n",
              " 34,\n",
              " 33,\n",
              " 32,\n",
              " 31,\n",
              " 30,\n",
              " 29,\n",
              " 28,\n",
              " 27,\n",
              " 26,\n",
              " 25,\n",
              " 24,\n",
              " 23,\n",
              " 22,\n",
              " 21,\n",
              " 20,\n",
              " 19,\n",
              " 18,\n",
              " 17,\n",
              " 16,\n",
              " 15,\n",
              " 14,\n",
              " 13,\n",
              " 12,\n",
              " 11]"
            ]
          },
          "metadata": {
            "tags": []
          },
          "execution_count": 24
        }
      ]
    },
    {
      "cell_type": "markdown",
      "metadata": {
        "id": "XY9_UsE4wbqD"
      },
      "source": [
        "# Create a 3x3 matrix with values ranging from 0 to 8"
      ]
    },
    {
      "cell_type": "code",
      "metadata": {
        "colab": {
          "base_uri": "https://localhost:8080/"
        },
        "id": "aC1LBOBzwh8C",
        "outputId": "f77e3ac9-9870-41ef-d439-117a091fc4fe"
      },
      "source": [
        "c=np.arange(0,9).reshape(3,3)\n",
        "c"
      ],
      "execution_count": 26,
      "outputs": [
        {
          "output_type": "execute_result",
          "data": {
            "text/plain": [
              "array([[0, 1, 2],\n",
              "       [3, 4, 5],\n",
              "       [6, 7, 8]])"
            ]
          },
          "metadata": {
            "tags": []
          },
          "execution_count": 26
        }
      ]
    },
    {
      "cell_type": "markdown",
      "metadata": {
        "id": "235udcOsxCk2"
      },
      "source": [
        "# Find indices of non-zero elements from [1,2,0,0,4,0]"
      ]
    },
    {
      "cell_type": "code",
      "metadata": {
        "colab": {
          "base_uri": "https://localhost:8080/"
        },
        "id": "XpCOahj7xJ8O",
        "outputId": "ba7f0455-3175-42d6-84a0-04294b732e31"
      },
      "source": [
        "a1=np.array([1,2,0,0,4,0])\n",
        "np.nonzero(a1)"
      ],
      "execution_count": 28,
      "outputs": [
        {
          "output_type": "execute_result",
          "data": {
            "text/plain": [
              "(array([0, 1, 4]),)"
            ]
          },
          "metadata": {
            "tags": []
          },
          "execution_count": 28
        }
      ]
    },
    {
      "cell_type": "markdown",
      "metadata": {
        "id": "gff-8stlxCiO"
      },
      "source": [
        "# Create a 3x3 identity matrix"
      ]
    },
    {
      "cell_type": "code",
      "metadata": {
        "colab": {
          "base_uri": "https://localhost:8080/"
        },
        "id": "Prlfqzzkxx23",
        "outputId": "a9c5b7f6-0a81-4a2e-de2e-0f6d9139d723"
      },
      "source": [
        "a2=np.identity(3)\n",
        "a2"
      ],
      "execution_count": 30,
      "outputs": [
        {
          "output_type": "execute_result",
          "data": {
            "text/plain": [
              "array([[1., 0., 0.],\n",
              "       [0., 1., 0.],\n",
              "       [0., 0., 1.]])"
            ]
          },
          "metadata": {
            "tags": []
          },
          "execution_count": 30
        }
      ]
    },
    {
      "cell_type": "markdown",
      "metadata": {
        "id": "0nGUpwmZyGxb"
      },
      "source": [
        "# Create a 3x3x3 array with random values"
      ]
    },
    {
      "cell_type": "code",
      "metadata": {
        "colab": {
          "base_uri": "https://localhost:8080/"
        },
        "id": "HMrlhe79yMX0",
        "outputId": "1d44eb80-4b38-4d5d-b471-02b7d9ba2586"
      },
      "source": [
        "a3=np.random.random((3,3,3))\n",
        "a3"
      ],
      "execution_count": 32,
      "outputs": [
        {
          "output_type": "execute_result",
          "data": {
            "text/plain": [
              "array([[[0.00552659, 0.50538993, 0.39408704],\n",
              "        [0.84105638, 0.23577798, 0.9843365 ],\n",
              "        [0.33327162, 0.11752803, 0.35969791]],\n",
              "\n",
              "       [[0.71801843, 0.22756141, 0.40255597],\n",
              "        [0.23173876, 0.44463801, 0.68489852],\n",
              "        [0.22527419, 0.9627717 , 0.22110211]],\n",
              "\n",
              "       [[0.82412872, 0.75583674, 0.11691851],\n",
              "        [0.56209094, 0.36096858, 0.87139512],\n",
              "        [0.55036706, 0.66391367, 0.91404349]]])"
            ]
          },
          "metadata": {
            "tags": []
          },
          "execution_count": 32
        }
      ]
    },
    {
      "cell_type": "markdown",
      "metadata": {
        "id": "1E2YpLN3ygar"
      },
      "source": [
        "# Create a 10x10 array with random values and find the minimum and maximum values"
      ]
    },
    {
      "cell_type": "code",
      "metadata": {
        "colab": {
          "base_uri": "https://localhost:8080/"
        },
        "id": "-IZ_GCx4yfol",
        "outputId": "120f7e9c-1976-46b9-d4d7-d29709a1f86d"
      },
      "source": [
        "a4=np.random.random((10,10))\n",
        "print(a4)\n",
        "print(\"*\"*80)\n",
        "print(\"maximum in above array : \",a4.max())\n",
        "print(\"minimum in above array : \",a4.min())"
      ],
      "execution_count": 36,
      "outputs": [
        {
          "output_type": "stream",
          "text": [
            "[[0.6035926  0.41992231 0.99719424 0.52344915 0.66766904 0.58486671\n",
            "  0.71527791 0.9030273  0.08159561 0.10836313]\n",
            " [0.11528274 0.37051131 0.98431175 0.99794981 0.2544623  0.37739457\n",
            "  0.16135078 0.20540737 0.03278308 0.06235572]\n",
            " [0.07107292 0.96299121 0.29959981 0.6901134  0.83907879 0.18961901\n",
            "  0.94053195 0.52408621 0.9404287  0.14158619]\n",
            " [0.30607743 0.76663688 0.31564457 0.15116538 0.96902552 0.9326253\n",
            "  0.82815534 0.3506106  0.98333982 0.05135291]\n",
            " [0.65556592 0.66459909 0.76834845 0.44348703 0.31144069 0.64365406\n",
            "  0.08444902 0.85783287 0.89562231 0.7975739 ]\n",
            " [0.75907365 0.88480756 0.22452341 0.92447211 0.87136066 0.83895114\n",
            "  0.60161501 0.17152175 0.20035968 0.13388091]\n",
            " [0.07666532 0.48179797 0.40443181 0.56865227 0.22046333 0.41690414\n",
            "  0.61430388 0.2798868  0.78356501 0.30435216]\n",
            " [0.11475118 0.30253735 0.61148865 0.42444312 0.15611007 0.55761149\n",
            "  0.81940202 0.47646774 0.91723846 0.77027124]\n",
            " [0.27926343 0.25894695 0.84640547 0.02074145 0.75657003 0.16678084\n",
            "  0.86631896 0.11306547 0.3438108  0.17791591]\n",
            " [0.22792064 0.29209011 0.41464688 0.20163603 0.56186854 0.79858003\n",
            "  0.60332869 0.14713346 0.76072474 0.57563339]]\n",
            "********************************************************************************\n",
            "maximum in above array :  0.9979498067146351\n",
            "minimum in above array :  0.020741451962904445\n"
          ],
          "name": "stdout"
        }
      ]
    },
    {
      "cell_type": "markdown",
      "metadata": {
        "id": "4kh6wSDRzl6T"
      },
      "source": [
        "# Create a random vector of size 30 and find the mean value"
      ]
    },
    {
      "cell_type": "code",
      "metadata": {
        "id": "3bctjQUJzrTN",
        "outputId": "25671ff1-446a-4160-8c5d-6defbc1bd7d8",
        "colab": {
          "base_uri": "https://localhost:8080/"
        }
      },
      "source": [
        "a5=np.random.random(10)\n",
        "print(a5)\n",
        "print(\"#\"*80)\n",
        "print(\"mean of the value of above array is  :\",a5.mean())"
      ],
      "execution_count": 39,
      "outputs": [
        {
          "output_type": "stream",
          "text": [
            "[0.45738747 0.91264406 0.70652389 0.91001468 0.59004326 0.30741916\n",
            " 0.89164003 0.72323286 0.61963196 0.69631221]\n",
            "################################################################################\n",
            "mean of the value of above array is  : 0.6814849586018016\n"
          ],
          "name": "stdout"
        }
      ]
    },
    {
      "cell_type": "markdown",
      "metadata": {
        "id": "xP2jRTZSzqrh"
      },
      "source": [
        "# Create a 2d array with 1 on the border and 0 inside"
      ]
    },
    {
      "cell_type": "code",
      "metadata": {
        "id": "fulXugGO0HDA",
        "outputId": "5d19367f-01a3-4fae-af68-cfa4038a6950",
        "colab": {
          "base_uri": "https://localhost:8080/"
        }
      },
      "source": [
        "#creates a 2d array of 4*4 with all 1's\n",
        "a6=np.ones((4,4))\n",
        "#print(a6)\n",
        "\n",
        "#for row : from 1st row upto last one \n",
        "#fro column : from 1st column upto last one \n",
        "a6[1:-1,1:-1]=0\n",
        "print(a6)"
      ],
      "execution_count": 42,
      "outputs": [
        {
          "output_type": "stream",
          "text": [
            "[[1. 1. 1. 1.]\n",
            " [1. 0. 0. 1.]\n",
            " [1. 0. 0. 1.]\n",
            " [1. 1. 1. 1.]]\n"
          ],
          "name": "stdout"
        }
      ]
    },
    {
      "cell_type": "markdown",
      "metadata": {
        "id": "pqKB0vqM2Jpf"
      },
      "source": [
        "# How to add a border (filled with 0's) around an existing array? "
      ]
    },
    {
      "cell_type": "code",
      "metadata": {
        "id": "UsRav0TT2QLp",
        "outputId": "099d7c52-9e2d-4168-d349-4ce7a49e81c8",
        "colab": {
          "base_uri": "https://localhost:8080/"
        }
      },
      "source": [
        "a6=np.pad(a6, pad_width=1, mode='constant', constant_values=0)\n",
        "print(a6)"
      ],
      "execution_count": 44,
      "outputs": [
        {
          "output_type": "stream",
          "text": [
            "[[0. 0. 0. 0. 0. 0.]\n",
            " [0. 1. 1. 1. 1. 0.]\n",
            " [0. 1. 0. 0. 1. 0.]\n",
            " [0. 1. 0. 0. 1. 0.]\n",
            " [0. 1. 1. 1. 1. 0.]\n",
            " [0. 0. 0. 0. 0. 0.]]\n"
          ],
          "name": "stdout"
        }
      ]
    },
    {
      "cell_type": "markdown",
      "metadata": {
        "id": "bhuKzVZ8393G"
      },
      "source": [
        "# How to Accessing/Changing specific elements, rows, columns, etc in Numpy array?\n",
        "\n",
        "Example -\n",
        "[[ 1 2 3 4 5 6 7] [ 8 9 10 11 12 13 14]]\n",
        "\n",
        "Get 13, get first row only, get 3rd column only, get [2, 4, 6], replace 13 by 20"
      ]
    },
    {
      "cell_type": "code",
      "metadata": {
        "id": "mTCXxdwW4TPe",
        "outputId": "7b31bc91-bea4-4bf7-97b4-8c200c6836c6",
        "colab": {
          "base_uri": "https://localhost:8080/"
        }
      },
      "source": [
        " a7=np.array([[ 1, 2, 3, 4, 5, 6, 7], [ 8, 9, 10, 11, 12, 13, 14]])\n",
        " print(a7)\n",
        " #a7[0,3]=20\n",
        " print(\"1st row : \",a7[0])\n",
        " print(\"3rd column : \",a7[:,3])\n",
        "\n",
        " ##\n",
        " ##\n",
        " ##"
      ],
      "execution_count": 58,
      "outputs": [
        {
          "output_type": "stream",
          "text": [
            "[[ 1  2  3  4  5  6  7]\n",
            " [ 8  9 10 11 12 13 14]]\n",
            "1st row :  [1 2 3 4 5 6 7]\n",
            "3rd column :  [ 4 11]\n"
          ],
          "name": "stdout"
        }
      ]
    },
    {
      "cell_type": "markdown",
      "metadata": {
        "id": "mZbSKWxK6qR8"
      },
      "source": [
        "# How to Convert a 1D array to a 2D array with 2 rows"
      ]
    },
    {
      "cell_type": "code",
      "metadata": {
        "id": "Y94PuLn76uKC",
        "outputId": "bb6100fb-c26b-4773-fe96-728ca4cceb3a",
        "colab": {
          "base_uri": "https://localhost:8080/"
        }
      },
      "source": [
        "a8=np.array([[ 1, 2, 3, 4, 5, 6, 7], [ 8, 9, 10, 11, 12, 13, 14]])\n",
        "a8.flatten()\n"
      ],
      "execution_count": 59,
      "outputs": [
        {
          "output_type": "execute_result",
          "data": {
            "text/plain": [
              "array([ 1,  2,  3,  4,  5,  6,  7,  8,  9, 10, 11, 12, 13, 14])"
            ]
          },
          "metadata": {
            "tags": []
          },
          "execution_count": 59
        }
      ]
    },
    {
      "cell_type": "markdown",
      "metadata": {
        "id": "rfnftG0f7-aH"
      },
      "source": [
        "# Create the following pattern without hardcoding. Use only numpy functions and the below input array a."
      ]
    },
    {
      "cell_type": "code",
      "metadata": {
        "id": "8aR-moJ38Dqw",
        "outputId": "d3ddb42a-759c-4945-c328-c3a4c04b3bad",
        "colab": {
          "base_uri": "https://localhost:8080/"
        }
      },
      "source": [
        "a = np.array([1,2,3])\n",
        "print(np.r_[(np.repeat(a, 3), np.tile(a, 3))])\n",
        "      "
      ],
      "execution_count": 63,
      "outputs": [
        {
          "output_type": "stream",
          "text": [
            "[1 1 1 2 2 2 3 3 3 1 2 3 1 2 3 1 2 3]\n"
          ],
          "name": "stdout"
        }
      ]
    },
    {
      "cell_type": "markdown",
      "metadata": {
        "id": "TpBuekO39BWF"
      },
      "source": [
        "# Write a program to show how Numpy taking less memory compared to Python List?"
      ]
    },
    {
      "cell_type": "code",
      "metadata": {
        "id": "8fTgOQRK9JUh",
        "outputId": "cde1ab1a-bad3-4cc8-edef-ecb150ce7f25",
        "colab": {
          "base_uri": "https://localhost:8080/"
        }
      },
      "source": [
        "import numpy as np\n",
        "\n",
        "print(\"-\"*10,\"list\",\"-\"*10)\n",
        "l=range(1000)\n",
        "\n",
        "# this module is used to calculate size\n",
        "import sys\n",
        "a=10\n",
        "print(sys.getsizeof(a)) #memory alocallted to a\n",
        "\n",
        "#here, one int value takes 28 bytes in a list \n",
        "print(sys.getsizeof(a)*len(l))\n",
        "print(\"-\"*10,\"numpy array\",\"-\"*10)\n",
        "a1=np.arange(1000)\n",
        "print(a1.size)\n",
        "\n",
        "#to check each item in numpy array \n",
        "print(a1.size*a1.itemsize)"
      ],
      "execution_count": 65,
      "outputs": [
        {
          "output_type": "stream",
          "text": [
            "---------- list ----------\n",
            "28\n",
            "28000\n",
            "---------- numpy array ----------\n",
            "1000\n",
            "8000\n"
          ],
          "name": "stdout"
        }
      ]
    },
    {
      "cell_type": "markdown",
      "metadata": {
        "id": "qL1ILA_t9qZM"
      },
      "source": [
        "# Write a program to show how Numpy taking less time compared to Python List?"
      ]
    },
    {
      "cell_type": "code",
      "metadata": {
        "id": "2HLhLwuv9xom",
        "outputId": "b030aa29-6648-4222-9b22-2b3e8ba52e24",
        "colab": {
          "base_uri": "https://localhost:8080/"
        }
      },
      "source": [
        "import time\n",
        "import sys\n",
        "\n",
        "print(\"-\"*10,\"list\",\"-\"*10)\n",
        "size = 1000000\n",
        "l1=range(size)\n",
        "l2=range(size)\n",
        "\n",
        "#starting timer\n",
        "start=time.time()\n",
        "#2 iterator are taken, inside zip we put both the list, one element from l1 will be put in x and one element from l2 will be put in y\n",
        "result=[(x+y) for x,y in zip(l1,l2)]\n",
        "#subtracting the when loop began with after excution of loop\n",
        "print((time.time()-start)*1000)\n",
        "\n",
        "\n",
        "print(\"-\"*10,\"numpy array\",\"-\"*10)\n",
        "n1=np.arange(size)\n",
        "n2=np.arange(size)\n",
        "\n",
        "#starting timer\n",
        "start=time.time()\n",
        "\n",
        "result=n1+n2\n",
        "#subtracting the when loop began with after excution of loop\n",
        "#time is in micro sec that we mutlipled it to 1000\n",
        "print((time.time()-start)*1000)"
      ],
      "execution_count": 66,
      "outputs": [
        {
          "output_type": "stream",
          "text": [
            "---------- list ----------\n",
            "140.52438735961914\n",
            "---------- numpy array ----------\n",
            "15.46478271484375\n"
          ],
          "name": "stdout"
        }
      ]
    }
  ]
}