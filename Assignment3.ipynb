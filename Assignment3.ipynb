{
  "nbformat": 4,
  "nbformat_minor": 0,
  "metadata": {
    "colab": {
      "name": "Assignment3.ipynb",
      "provenance": [],
      "authorship_tag": "ABX9TyMwmOKvCdnxbX0JEZ6bNmk2",
      "include_colab_link": true
    },
    "kernelspec": {
      "name": "python3",
      "display_name": "Python 3"
    },
    "language_info": {
      "name": "python"
    }
  },
  "cells": [
    {
      "cell_type": "markdown",
      "metadata": {
        "id": "view-in-github",
        "colab_type": "text"
      },
      "source": [
        "<a href=\"https://colab.research.google.com/github/banshita209/banshita209-Data-Science-and-Machine-Learning-with-Python/blob/master/Assignment3.ipynb\" target=\"_parent\"><img src=\"https://colab.research.google.com/assets/colab-badge.svg\" alt=\"Open In Colab\"/></a>"
      ]
    },
    {
      "cell_type": "markdown",
      "metadata": {
        "id": "1ey989vEvvnK"
      },
      "source": [
        "# Q1 Write a Python Program to sort (ascending and descending) a dictionary by value. "
      ]
    },
    {
      "cell_type": "code",
      "metadata": {
        "id": "qPd0ubqMuqBT",
        "colab": {
          "base_uri": "https://localhost:8080/"
        },
        "outputId": "f73163c5-e2a3-4680-f94f-b1cdc6767352"
      },
      "source": [
        "import operator\n",
        "d={'a':89,'j':90,'e':23,'w':67,'p':65}\n",
        "print(\"dictionary : \",d)\n",
        "print(\"----sorted in  asecending order------\")\n",
        "sorted_dict = dict( sorted(d.items(),key=operator.itemgetter(1)))\n",
        "print('Sorted Dictionary: ')\n",
        "print(sorted_dict)\n",
        "print(\"----sorted in descending order------\")\n",
        "sorted_dict = dict( sorted(d.items(),key=operator.itemgetter(1),reverse=True))\n",
        "print('Sorted Dictionary: ')\n",
        "print(sorted_dict)"
      ],
      "execution_count": 17,
      "outputs": [
        {
          "output_type": "stream",
          "text": [
            "dictionary :  {'a': 89, 'j': 90, 'e': 23, 'w': 67, 'p': 65}\n",
            "----sorted in  asecending order------\n",
            "Sorted Dictionary: \n",
            "{'e': 23, 'p': 65, 'w': 67, 'a': 89, 'j': 90}\n",
            "----sorted in descending order------\n",
            "Sorted Dictionary: \n",
            "{'j': 90, 'a': 89, 'w': 67, 'p': 65, 'e': 23}\n"
          ],
          "name": "stdout"
        }
      ]
    },
    {
      "cell_type": "markdown",
      "metadata": {
        "id": "5l0Frm7VwSVd"
      },
      "source": [
        "#Q.2 Write a Python Program to add a key to a dictionary. \n",
        "\n",
        "Sample Dictionary : {0: 10, 1: 20}\n",
        "Expected Result : {0: 10, 1: 20, 2: 30}"
      ]
    },
    {
      "cell_type": "code",
      "metadata": {
        "colab": {
          "base_uri": "https://localhost:8080/"
        },
        "id": "fB8T27scxAqJ",
        "outputId": "b62984ea-b1ca-4c21-b269-de060ac1b618"
      },
      "source": [
        "d={0: 10, 1: 20}\n",
        "print(d)\n",
        "print(\"----aftwer instering record--------\")\n",
        "d[2]=30\n",
        "print(d)"
      ],
      "execution_count": null,
      "outputs": [
        {
          "output_type": "stream",
          "text": [
            "{0: 10, 1: 20}\n",
            "----aftwer instering record--------\n",
            "{0: 10, 1: 20, 2: 30}\n"
          ],
          "name": "stdout"
        }
      ]
    },
    {
      "cell_type": "markdown",
      "metadata": {
        "id": "l8uRTF4cxNYC"
      },
      "source": [
        "# Q:3 Write a  program asks for City name and Temperature and builds a dictionary using that Later on you can input City name and it will tell you the Temperature of that City."
      ]
    },
    {
      "cell_type": "code",
      "metadata": {
        "colab": {
          "base_uri": "https://localhost:8080/"
        },
        "id": "U6miYHoNxaOZ",
        "outputId": "3f9fe500-dbd7-436c-9bea-cfcfef35a34f"
      },
      "source": [
        "n=int(input(\"How many cities you want to add\"))\n",
        "cities=list()\n",
        "print(\"Enter \",n,\" cities name\")\n",
        "for i in range(0,n):\n",
        "  cities.append(input())\n",
        "print(\"cities :\",cities)\n",
        "temp=list()\n",
        "print(\"Enter \",n,\" tempertaure name\")\n",
        "for i in range(0,n):\n",
        "  temp.append(input())\n",
        "print(\"tempature :\",temp)\n",
        "\n",
        "\n",
        "print(\"-------dict of cities and tempature-----\")\n",
        "d=dict(zip(cities,temp))\n",
        "print(d)"
      ],
      "execution_count": null,
      "outputs": [
        {
          "output_type": "stream",
          "text": [
            "How many cities you want to add2\n",
            "Enter  2  cities name\n",
            "ajmer\n",
            "surat\n",
            "cities : ['ajmer', 'surat']\n",
            "Enter  2  tempertaure name\n",
            "43\n",
            "40\n",
            "tempature : ['43', '40']\n",
            "-------dict of cities and tempature-----\n",
            "{'ajmer': '43', 'surat': '40'}\n"
          ],
          "name": "stdout"
        }
      ]
    },
    {
      "cell_type": "markdown",
      "metadata": {
        "id": "LK4rBtSrunGn"
      },
      "source": [
        "# Q4 Write a Python program to convert list to list of dictionaries."
      ]
    },
    {
      "cell_type": "code",
      "metadata": {
        "colab": {
          "base_uri": "https://localhost:8080/"
        },
        "id": "dFFGVGiyuqf-",
        "outputId": "4ecca0a3-9710-4ea2-b687-38e71b6ea73a"
      },
      "source": [
        "\n",
        "colour = [\"Black\", \"Red\", \"Maroon\", \"Yellow\"]\n",
        "hex = [\"#000000\", \"#FF0000\", \"#800000\", \"#FFFF00\"]\n",
        "key_list = ['color_name','color_code']\n",
        "\n",
        "print(\"The original color list : \" + str(colour))\n",
        "print(\"The original hex list : \" + str(hex))  \n",
        "\n",
        "n = len(colour)\n",
        "m = len(hex)\n",
        "res = [{key_list[0]: colour[idx], key_list[1]: hex[idx]}\n",
        "       for idx in range(n)]\n",
        "  \n",
        "# printing result \n",
        "print(\"The constructed dictionary list : \" + str(res))"
      ],
      "execution_count": 18,
      "outputs": [
        {
          "output_type": "stream",
          "text": [
            "The original color list : ['Black', 'Red', 'Maroon', 'Yellow']\n",
            "The original hex list : ['#000000', '#FF0000', '#800000', '#FFFF00']\n",
            "The constructed dictionary list : [{'color_name': 'Black', 'color_code': '#000000'}, {'color_name': 'Red', 'color_code': '#FF0000'}, {'color_name': 'Maroon', 'color_code': '#800000'}, {'color_name': 'Yellow', 'color_code': '#FFFF00'}]\n"
          ],
          "name": "stdout"
        }
      ]
    },
    {
      "cell_type": "markdown",
      "metadata": {
        "id": "nevEnj0Cuwsm"
      },
      "source": [
        "# Q5 We have following information on Employees and their Salary (Salary is in lakhs),Employee:John,smith,alice,danieal Salary: 14,13,32,21"
      ]
    },
    {
      "cell_type": "code",
      "metadata": {
        "colab": {
          "base_uri": "https://localhost:8080/"
        },
        "id": "-NQL3pQOu2-e",
        "outputId": "ed27c083-ac3d-497a-e011-19c4696e73e3"
      },
      "source": [
        "d = {'john':'14','smith':'13','alice':'32','daniel':'21'}\n",
        "d"
      ],
      "execution_count": 19,
      "outputs": [
        {
          "output_type": "execute_result",
          "data": {
            "text/plain": [
              "{'alice': '32', 'daniel': '21', 'john': '14', 'smith': '13'}"
            ]
          },
          "metadata": {
            "tags": []
          },
          "execution_count": 19
        }
      ]
    },
    {
      "cell_type": "code",
      "metadata": {
        "colab": {
          "base_uri": "https://localhost:8080/"
        },
        "id": "uEtPzLL_v7X3",
        "outputId": "64b675b5-fb5b-413a-e5e3-27ffd4596abf"
      },
      "source": [
        "d = {'john':'14','smith':'13','alice':'32','daniel':'21'}\n",
        "poll = True\n",
        "while poll:\n",
        "  usr_input = input(\"\\nEnter choice: 1.Print, 2.add, 3.remove, 4.query, q to quit:\")\n",
        "\n",
        "  if usr_input == '1':\n",
        "    print(\"Name Salary\")\n",
        "    for name, salary in d.items():\n",
        "      print(\"{} ==> {}\".format(name, salary))\n",
        "  elif usr_input == '2':\n",
        "    a = input(\"Enter employee name:\")\n",
        "    b = input(\"Enter employee salary:\")\n",
        "    d[a] = b  \n",
        "    print(\"Name Salary\")\n",
        "    for name, salary in d.items():\n",
        "      print(\"{} ==> {}\".format(name, salary))\n",
        "  elif usr_input == '3':\n",
        "    rem = input(\"Enter name of employee you want to remove:\")\n",
        "    r = d.pop(rem)\n",
        "    print(\"Name Salary\")\n",
        "    for name, salary in d.items():\n",
        "      print(\"{} ==> {}\".format(name, salary))\n",
        "  elif usr_input == '4':\n",
        "    x = input(\"Enter name of employee you want query:\")\n",
        "    print(\"Salary of employee is: %s\" % d.get(x))\n",
        "  elif usr_input == 'q':\n",
        "    break  \n",
        "  else:\n",
        "    print(\"wrong choice\")"
      ],
      "execution_count": 4,
      "outputs": [
        {
          "output_type": "stream",
          "text": [
            "\n",
            "Enter choice: 1.Print, 2.add, 3.remove, 4.query, q to quit:1\n",
            "Name Salary\n",
            "john ==> 14\n",
            "smith ==> 13\n",
            "alice ==> 32\n",
            "daniel ==> 21\n",
            "\n",
            "Enter choice: 1.Print, 2.add, 3.remove, 4.query, q to quit:2\n",
            "Enter employee name:Banshita\n",
            "Enter employee salary:90\n",
            "Name Salary\n",
            "john ==> 14\n",
            "smith ==> 13\n",
            "alice ==> 32\n",
            "daniel ==> 21\n",
            "Banshita ==> 90\n",
            "\n",
            "Enter choice: 1.Print, 2.add, 3.remove, 4.query, q to quit:3\n",
            "Enter name of employee you want to remove:smith\n",
            "Name Salary\n",
            "john ==> 14\n",
            "alice ==> 32\n",
            "daniel ==> 21\n",
            "Banshita ==> 90\n",
            "\n",
            "Enter choice: 1.Print, 2.add, 3.remove, 4.query, q to quit:4\n",
            "Enter name of employee you want query:alice\n",
            "Salary of employee is: 32\n",
            "\n",
            "Enter choice: 1.Print, 2.add, 3.remove, 4.query, q to quit:4\n",
            "Enter name of employee you want query:john\n",
            "Salary of employee is: 14\n",
            "\n",
            "Enter choice: 1.Print, 2.add, 3.remove, 4.query, q to quit:q\n"
          ],
          "name": "stdout"
        }
      ]
    },
    {
      "cell_type": "markdown",
      "metadata": {
        "id": "BCGI8TD_viVU"
      },
      "source": [
        "# Questions for sets\n",
        "\n",
        "##What is the difference between a set and a frozenset? Create any set and try to use frozenset(setname)."
      ]
    },
    {
      "cell_type": "code",
      "metadata": {
        "colab": {
          "base_uri": "https://localhost:8080/"
        },
        "id": "Ho72f-3owiA2",
        "outputId": "7d8641fe-4bdf-412e-fb80-b5405eb0867d"
      },
      "source": [
        "cities = set((\"Paris\", \"Lyon\", \"London\",\"Berlin\",\"Paris\",\"Birmingham\"))\n",
        "cities"
      ],
      "execution_count": 5,
      "outputs": [
        {
          "output_type": "execute_result",
          "data": {
            "text/plain": [
              "{'Berlin', 'Birmingham', 'London', 'Lyon', 'Paris'}"
            ]
          },
          "metadata": {
            "tags": []
          },
          "execution_count": 5
        }
      ]
    },
    {
      "cell_type": "code",
      "metadata": {
        "colab": {
          "base_uri": "https://localhost:8080/"
        },
        "id": "hyHGdOFewnYf",
        "outputId": "25de0508-218d-4275-8770-86fc7887170c"
      },
      "source": [
        "Fcities = frozenset(cities)\n",
        "Fcities"
      ],
      "execution_count": 6,
      "outputs": [
        {
          "output_type": "execute_result",
          "data": {
            "text/plain": [
              "frozenset({'Berlin', 'Birmingham', 'London', 'Lyon', 'Paris'})"
            ]
          },
          "metadata": {
            "tags": []
          },
          "execution_count": 6
        }
      ]
    },
    {
      "cell_type": "markdown",
      "metadata": {
        "id": "VS7f8ourwr3h"
      },
      "source": [
        "# Find the elements in a given set that are not in another set"
      ]
    },
    {
      "cell_type": "code",
      "metadata": {
        "colab": {
          "base_uri": "https://localhost:8080/"
        },
        "id": "xxx5hcYzwuMa",
        "outputId": "0693b9b9-087d-42e4-8eb1-1f2abcde5674"
      },
      "source": [
        "set1 = {10,20,30,40,50}\n",
        "set2 = {40,50,60,70,80}\n",
        "print(\"Set 1:\")\n",
        "print(set1)\n",
        "print(\"set 2:\")\n",
        "print(set2)\n",
        "print(\"Difference between set1 and set2:\")\n",
        "print(set1.difference(set2))"
      ],
      "execution_count": 7,
      "outputs": [
        {
          "output_type": "stream",
          "text": [
            "Set 1:\n",
            "{40, 10, 50, 20, 30}\n",
            "set 2:\n",
            "{70, 40, 80, 50, 60}\n",
            "Difference between set1 and set2:\n",
            "{10, 20, 30}\n"
          ],
          "name": "stdout"
        }
      ]
    }
  ]
}