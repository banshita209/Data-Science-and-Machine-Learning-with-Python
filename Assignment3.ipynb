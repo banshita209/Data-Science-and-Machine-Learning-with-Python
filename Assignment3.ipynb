{
  "nbformat": 4,
  "nbformat_minor": 0,
  "metadata": {
    "colab": {
      "name": "Assignment3.ipynb",
      "provenance": [],
      "authorship_tag": "ABX9TyOIgsOJmsquaMoSyohRHtqi",
      "include_colab_link": true
    },
    "kernelspec": {
      "name": "python3",
      "display_name": "Python 3"
    },
    "language_info": {
      "name": "python"
    }
  },
  "cells": [
    {
      "cell_type": "markdown",
      "metadata": {
        "id": "view-in-github",
        "colab_type": "text"
      },
      "source": [
        "<a href=\"https://colab.research.google.com/github/banshita209/banshita209-Data-Science-and-Machine-Learning-with-Python/blob/master/Assignment3.ipynb\" target=\"_parent\"><img src=\"https://colab.research.google.com/assets/colab-badge.svg\" alt=\"Open In Colab\"/></a>"
      ]
    },
    {
      "cell_type": "markdown",
      "metadata": {
        "id": "1ey989vEvvnK"
      },
      "source": [
        "# Q1 Write a Python Program to sort (ascending and descending) a dictionary by value. "
      ]
    },
    {
      "cell_type": "code",
      "metadata": {
        "id": "qPd0ubqMuqBT"
      },
      "source": [
        ""
      ],
      "execution_count": null,
      "outputs": []
    },
    {
      "cell_type": "markdown",
      "metadata": {
        "id": "5l0Frm7VwSVd"
      },
      "source": [
        "#Q.2 Write a Python Program to add a key to a dictionary. \n",
        "\n",
        "Sample Dictionary : {0: 10, 1: 20}\n",
        "Expected Result : {0: 10, 1: 20, 2: 30}"
      ]
    },
    {
      "cell_type": "code",
      "metadata": {
        "colab": {
          "base_uri": "https://localhost:8080/"
        },
        "id": "fB8T27scxAqJ",
        "outputId": "b62984ea-b1ca-4c21-b269-de060ac1b618"
      },
      "source": [
        "d={0: 10, 1: 20}\n",
        "print(d)\n",
        "print(\"----aftwer instering record--------\")\n",
        "d[2]=30\n",
        "print(d)"
      ],
      "execution_count": 3,
      "outputs": [
        {
          "output_type": "stream",
          "text": [
            "{0: 10, 1: 20}\n",
            "----aftwer instering record--------\n",
            "{0: 10, 1: 20, 2: 30}\n"
          ],
          "name": "stdout"
        }
      ]
    },
    {
      "cell_type": "markdown",
      "metadata": {
        "id": "l8uRTF4cxNYC"
      },
      "source": [
        "# Q:3 Write a  program asks for City name and Temperature and builds a dictionary using that Later on you can input City name and it will tell you the Temperature of that City."
      ]
    },
    {
      "cell_type": "code",
      "metadata": {
        "colab": {
          "base_uri": "https://localhost:8080/"
        },
        "id": "U6miYHoNxaOZ",
        "outputId": "3f9fe500-dbd7-436c-9bea-cfcfef35a34f"
      },
      "source": [
        "n=int(input(\"How many cities you want to add\"))\n",
        "cities=list()\n",
        "print(\"Enter \",n,\" cities name\")\n",
        "for i in range(0,n):\n",
        "  cities.append(input())\n",
        "print(\"cities :\",cities)\n",
        "temp=list()\n",
        "print(\"Enter \",n,\" tempertaure name\")\n",
        "for i in range(0,n):\n",
        "  temp.append(input())\n",
        "print(\"tempature :\",temp)\n",
        "\n",
        "\n",
        "print(\"-------dict of cities and tempature-----\")\n",
        "d=dict(zip(cities,temp))\n",
        "print(d)"
      ],
      "execution_count": 10,
      "outputs": [
        {
          "output_type": "stream",
          "text": [
            "How many cities you want to add2\n",
            "Enter  2  cities name\n",
            "ajmer\n",
            "surat\n",
            "cities : ['ajmer', 'surat']\n",
            "Enter  2  tempertaure name\n",
            "43\n",
            "40\n",
            "tempature : ['43', '40']\n",
            "-------dict of cities and tempature-----\n",
            "{'ajmer': '43', 'surat': '40'}\n"
          ],
          "name": "stdout"
        }
      ]
    }
  ]
}