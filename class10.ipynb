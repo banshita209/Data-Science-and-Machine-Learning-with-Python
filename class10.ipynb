{
  "nbformat": 4,
  "nbformat_minor": 0,
  "metadata": {
    "colab": {
      "name": "class10.ipynb",
      "provenance": [],
      "collapsed_sections": [],
      "authorship_tag": "ABX9TyPQAogZdkhuMrU+CIVT3Z6o",
      "include_colab_link": true
    },
    "kernelspec": {
      "name": "python3",
      "display_name": "Python 3"
    },
    "language_info": {
      "name": "python"
    }
  },
  "cells": [
    {
      "cell_type": "markdown",
      "metadata": {
        "id": "view-in-github",
        "colab_type": "text"
      },
      "source": [
        "<a href=\"https://colab.research.google.com/github/banshita209/Data-Science-and-Machine-Learning-with-Python/blob/master/class10.ipynb\" target=\"_parent\"><img src=\"https://colab.research.google.com/assets/colab-badge.svg\" alt=\"Open In Colab\"/></a>"
      ]
    },
    {
      "cell_type": "markdown",
      "metadata": {
        "id": "JQGugsN1CU4Z"
      },
      "source": [
        "#classification\n",
        "* type of supervised machine learning\n",
        "* classificatio v/s regression\n",
        "  * regression predicat continous data\n",
        "    *\n",
        "  * classification predicate class (categorical data)\n",
        "    * example like we need to group data into spam or not.\n",
        "* "
      ]
    },
    {
      "cell_type": "markdown",
      "metadata": {
        "id": "plV05Bi4HnI_"
      },
      "source": [
        "#logistic regression\n",
        "* technique to analysis dataset which has independent data or one more dependent data \n",
        "* finding relationship between dependent and independent data\n",
        "* outcome is binary variable ( categroical varible)\n",
        "* here we are going to predicate a categorical data \n"
      ]
    },
    {
      "cell_type": "code",
      "metadata": {
        "id": "qQXD6Q5-HmUX"
      },
      "source": [
        ""
      ],
      "execution_count": null,
      "outputs": []
    },
    {
      "cell_type": "code",
      "metadata": {
        "id": "eyf_V3oABr0f"
      },
      "source": [
        "nj"
      ],
      "execution_count": null,
      "outputs": []
    }
  ]
}