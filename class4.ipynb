{
  "nbformat": 4,
  "nbformat_minor": 0,
  "metadata": {
    "colab": {
      "name": "class4.ipynb",
      "provenance": [],
      "authorship_tag": "ABX9TyNKn/Z+MsxV9/WnWAevC9OM",
      "include_colab_link": true
    },
    "kernelspec": {
      "name": "python3",
      "display_name": "Python 3"
    },
    "language_info": {
      "name": "python"
    }
  },
  "cells": [
    {
      "cell_type": "markdown",
      "metadata": {
        "id": "view-in-github",
        "colab_type": "text"
      },
      "source": [
        "<a href=\"https://colab.research.google.com/github/banshita209/banshita209-Data-Science-and-Machine-Learning-with-Python/blob/master/class4.ipynb\" target=\"_parent\"><img src=\"https://colab.research.google.com/assets/colab-badge.svg\" alt=\"Open In Colab\"/></a>"
      ]
    },
    {
      "cell_type": "markdown",
      "metadata": {
        "id": "cIJYXcJ1pJ9Q"
      },
      "source": [
        "tuple:\n",
        "\n",
        "---\n",
        "\n",
        "tuple is immmutable .\n",
        "you can not add or delete once creating..\n"
      ]
    },
    {
      "cell_type": "code",
      "metadata": {
        "colab": {
          "base_uri": "https://localhost:8080/"
        },
        "id": "jl_C24mGrLnH",
        "outputId": "18fb170f-857a-46ee-a763-cc5fa9ffd95d"
      },
      "source": [
        "t=('a','b','c','d','e','f')\n",
        "print(t)\n",
        "print(t[0])\n",
        "print(len(t))"
      ],
      "execution_count": null,
      "outputs": [
        {
          "output_type": "stream",
          "text": [
            "('a', 'b', 'c', 'd', 'e', 'f')\n",
            "a\n",
            "6\n"
          ],
          "name": "stdout"
        }
      ]
    },
    {
      "cell_type": "markdown",
      "metadata": {
        "id": "f-tOXsm6sD3N"
      },
      "source": [
        "we can not delete data once adding"
      ]
    },
    {
      "cell_type": "code",
      "metadata": {
        "colab": {
          "base_uri": "https://localhost:8080/",
          "height": 162
        },
        "id": "pISddl3UsANb",
        "outputId": "fbe2f9c2-2b19-46d3-da1f-3236d995bb2f"
      },
      "source": [
        "del t[2]"
      ],
      "execution_count": null,
      "outputs": [
        {
          "output_type": "error",
          "ename": "TypeError",
          "evalue": "ignored",
          "traceback": [
            "\u001b[0;31m---------------------------------------------------------------------------\u001b[0m",
            "\u001b[0;31mTypeError\u001b[0m                                 Traceback (most recent call last)",
            "\u001b[0;32m<ipython-input-4-2d0f41a77003>\u001b[0m in \u001b[0;36m<module>\u001b[0;34m()\u001b[0m\n\u001b[0;32m----> 1\u001b[0;31m \u001b[0;32mdel\u001b[0m \u001b[0mt\u001b[0m\u001b[0;34m[\u001b[0m\u001b[0;36m2\u001b[0m\u001b[0;34m]\u001b[0m\u001b[0;34m\u001b[0m\u001b[0;34m\u001b[0m\u001b[0m\n\u001b[0m",
            "\u001b[0;31mTypeError\u001b[0m: 'tuple' object doesn't support item deletion"
          ]
        }
      ]
    },
    {
      "cell_type": "code",
      "metadata": {
        "colab": {
          "base_uri": "https://localhost:8080/"
        },
        "id": "UPEqA_XfsI8-",
        "outputId": "cb406efa-65b2-40ce-de2c-b03c64c3cdda"
      },
      "source": [
        "t1=(1,2,'tuple')\n",
        "print(t1)"
      ],
      "execution_count": null,
      "outputs": [
        {
          "output_type": "stream",
          "text": [
            "(1, 2, 'tuple')\n"
          ],
          "name": "stdout"
        }
      ]
    },
    {
      "cell_type": "code",
      "metadata": {
        "colab": {
          "base_uri": "https://localhost:8080/"
        },
        "id": "ERpGvespsXiq",
        "outputId": "47c38c02-5b89-4a96-b570-f6db57bf4d68"
      },
      "source": [
        "\n",
        "type(t1)"
      ],
      "execution_count": null,
      "outputs": [
        {
          "output_type": "execute_result",
          "data": {
            "text/plain": [
              "tuple"
            ]
          },
          "metadata": {
            "tags": []
          },
          "execution_count": 7
        }
      ]
    },
    {
      "cell_type": "markdown",
      "metadata": {
        "id": "u4NTnylfssDk"
      },
      "source": [
        "### **Dictionary**\n",
        "\n",
        "---\n",
        "key value pair data type , unordered key value pair\n"
      ]
    },
    {
      "cell_type": "code",
      "metadata": {
        "colab": {
          "base_uri": "https://localhost:8080/"
        },
        "id": "2CJN1TdVsxts",
        "outputId": "9992d540-afe9-4060-fac3-ab36fd9ac59f"
      },
      "source": [
        "#dict() is used to create \n",
        "d=dict({'red':1,'green':2,'blue':3})\n",
        "print(type(d))\n",
        "print(d)\n"
      ],
      "execution_count": null,
      "outputs": [
        {
          "output_type": "stream",
          "text": [
            "<class 'dict'>\n",
            "{'red': 1, 'green': 2, 'blue': 3}\n"
          ],
          "name": "stdout"
        }
      ]
    },
    {
      "cell_type": "code",
      "metadata": {
        "colab": {
          "base_uri": "https://localhost:8080/"
        },
        "id": "-To40NbxvRtD",
        "outputId": "57284926-06df-4a94-d2ef-de1df05bd1e1"
      },
      "source": [
        "l1=['red','green','blue']\n",
        "l2=[1,2,3]\n",
        "d=dict(zip(l1,l2))\n",
        "d\n"
      ],
      "execution_count": null,
      "outputs": [
        {
          "output_type": "execute_result",
          "data": {
            "text/plain": [
              "{'blue': 3, 'green': 2, 'red': 1}"
            ]
          },
          "metadata": {
            "tags": []
          },
          "execution_count": 15
        }
      ]
    },
    {
      "cell_type": "code",
      "metadata": {
        "colab": {
          "base_uri": "https://localhost:8080/"
        },
        "id": "CFNNkxyKxQd5",
        "outputId": "d3b3ffac-57ef-4837-8e25-dfa24a94a9db"
      },
      "source": [
        "for i in d:\n",
        "  print(i)\n",
        "  print(d[i])"
      ],
      "execution_count": null,
      "outputs": [
        {
          "output_type": "stream",
          "text": [
            "red\n",
            "1\n",
            "green\n",
            "2\n",
            "blue\n",
            "3\n"
          ],
          "name": "stdout"
        }
      ]
    },
    {
      "cell_type": "code",
      "metadata": {
        "colab": {
          "base_uri": "https://localhost:8080/"
        },
        "id": "FPF9SJ7cxvny",
        "outputId": "a0572e1e-9631-45b1-c3e7-1c8cc038d67d"
      },
      "source": [
        "\n",
        "#get function returns the value of given key\n",
        "d.get('blue')"
      ],
      "execution_count": null,
      "outputs": [
        {
          "output_type": "execute_result",
          "data": {
            "text/plain": [
              "3"
            ]
          },
          "metadata": {
            "tags": []
          },
          "execution_count": 17
        }
      ]
    },
    {
      "cell_type": "code",
      "metadata": {
        "colab": {
          "base_uri": "https://localhost:8080/"
        },
        "id": "gU4RZ1Xfx8yP",
        "outputId": "a9170843-035b-4f98-e3d5-5591f1362031"
      },
      "source": [
        "#changing the value of a particular key\n",
        "d['blue']=300\n",
        "print(d)"
      ],
      "execution_count": null,
      "outputs": [
        {
          "output_type": "stream",
          "text": [
            "{'red': 1, 'green': 2, 'blue': 300}\n"
          ],
          "name": "stdout"
        }
      ]
    },
    {
      "cell_type": "code",
      "metadata": {
        "colab": {
          "base_uri": "https://localhost:8080/"
        },
        "id": "BtAY0XxjyHCF",
        "outputId": "a9e89302-ebeb-401c-b4c2-d4e340dcc270"
      },
      "source": [
        "\n",
        "#we can not updae key, so we can add more keys and remove older keys\n",
        "#here we added new key orange\n",
        "d['orange']=100\n",
        "print(d)"
      ],
      "execution_count": null,
      "outputs": [
        {
          "output_type": "stream",
          "text": [
            "{'red': 1, 'green': 2, 'blue': 300, 'orange': 100}\n"
          ],
          "name": "stdout"
        }
      ]
    },
    {
      "cell_type": "code",
      "metadata": {
        "colab": {
          "base_uri": "https://localhost:8080/"
        },
        "id": "bmY5WOePydKj",
        "outputId": "f19e22f3-50d0-410d-eb45-afd9c6ccb714"
      },
      "source": [
        "p={10:'hello',20:'banshita'}\n",
        "print(d)\n",
        "print(p)"
      ],
      "execution_count": null,
      "outputs": [
        {
          "output_type": "stream",
          "text": [
            "{'red': 1, 'green': 2, 'blue': 300, 'orange': 100}\n",
            "{10: 'hello', 20: 'banshita'}\n"
          ],
          "name": "stdout"
        }
      ]
    },
    {
      "cell_type": "code",
      "metadata": {
        "colab": {
          "base_uri": "https://localhost:8080/"
        },
        "id": "7hAga0cTymQd",
        "outputId": "bfc68a22-2ddf-4778-9be6-4a5e19f0ff5d"
      },
      "source": [
        "#combining 2 dict \n",
        "#we used update fun to add dict 'p' into d\n",
        "d.update(p)\n",
        "print(d)"
      ],
      "execution_count": null,
      "outputs": [
        {
          "output_type": "stream",
          "text": [
            "{'red': 1, 'green': 2, 'blue': 300, 'orange': 100, 10: 'hello', 20: 'banshita'}\n"
          ],
          "name": "stdout"
        }
      ]
    },
    {
      "cell_type": "code",
      "metadata": {
        "colab": {
          "base_uri": "https://localhost:8080/"
        },
        "id": "LTUkVPnsyzpD",
        "outputId": "d99fb25a-cc4d-4ec7-8e25-e6fe40f7b6b2"
      },
      "source": [
        "len(d)"
      ],
      "execution_count": null,
      "outputs": [
        {
          "output_type": "execute_result",
          "data": {
            "text/plain": [
              "6"
            ]
          },
          "metadata": {
            "tags": []
          },
          "execution_count": 25
        }
      ]
    },
    {
      "cell_type": "code",
      "metadata": {
        "colab": {
          "base_uri": "https://localhost:8080/"
        },
        "id": "MuG9ZdrIy-lT",
        "outputId": "961e9759-5666-43a2-f692-2711a14a3c37"
      },
      "source": [
        "\n",
        "#removing item form d\n",
        "# after dleting pop function returns that value of given key and remove the key-value pair\n",
        "d.pop('red')"
      ],
      "execution_count": null,
      "outputs": [
        {
          "output_type": "execute_result",
          "data": {
            "text/plain": [
              "1"
            ]
          },
          "metadata": {
            "tags": []
          },
          "execution_count": 30
        }
      ]
    },
    {
      "cell_type": "code",
      "metadata": {
        "colab": {
          "base_uri": "https://localhost:8080/"
        },
        "id": "y9FHzpGXzVX4",
        "outputId": "bba64b9c-b66e-4544-f0db-807f951410d1"
      },
      "source": [
        "print(d)\n"
      ],
      "execution_count": null,
      "outputs": [
        {
          "output_type": "stream",
          "text": [
            "{'green': 2, 'blue': 300, 10: 'hello', 20: 'banshita'}\n"
          ],
          "name": "stdout"
        }
      ]
    },
    {
      "cell_type": "code",
      "metadata": {
        "colab": {
          "base_uri": "https://localhost:8080/"
        },
        "id": "WCXLNd0czeJf",
        "outputId": "78614ba5-0971-4570-b6e8-08979828bdfe"
      },
      "source": [
        "#reverse a dict\n",
        "k=d.keys()\n",
        "print(k)"
      ],
      "execution_count": null,
      "outputs": [
        {
          "output_type": "stream",
          "text": [
            "dict_keys(['green', 'blue', 10, 20])\n"
          ],
          "name": "stdout"
        }
      ]
    },
    {
      "cell_type": "markdown",
      "metadata": {
        "id": "4cLFeOnW1vdw"
      },
      "source": [
        "## Set\n",
        "\n",
        "\n",
        "*   used for unique values, must have unique value \n",
        "*   \n",
        "\n"
      ]
    },
    {
      "cell_type": "code",
      "metadata": {
        "colab": {
          "base_uri": "https://localhost:8080/"
        },
        "id": "4cnFbZBl14Bq",
        "outputId": "08e226b4-83a8-471c-93a5-4ef0c9b87226"
      },
      "source": [
        "s={1,2,3,4,5}\n",
        "print(s)\n",
        "print(type(s))"
      ],
      "execution_count": null,
      "outputs": [
        {
          "output_type": "stream",
          "text": [
            "{1, 2, 3, 4, 5}\n",
            "<class 'set'>\n"
          ],
          "name": "stdout"
        }
      ]
    },
    {
      "cell_type": "code",
      "metadata": {
        "colab": {
          "base_uri": "https://localhost:8080/"
        },
        "id": "GxV_rCUI3BuT",
        "outputId": "32351fa4-8b41-4289-fd20-95070874bc84"
      },
      "source": [
        "s1=set(['a','b','c'])\n",
        "print(s1)\n",
        "print(type(s1))"
      ],
      "execution_count": null,
      "outputs": [
        {
          "output_type": "stream",
          "text": [
            "{'a', 'b', 'c'}\n",
            "<class 'set'>\n"
          ],
          "name": "stdout"
        }
      ]
    },
    {
      "cell_type": "code",
      "metadata": {
        "colab": {
          "base_uri": "https://localhost:8080/"
        },
        "id": "nMBDEfX_3MN6",
        "outputId": "be55082c-cfe8-457a-ee8f-0fa93bc13771"
      },
      "source": [
        "#making a set with duplicate values\n",
        "s={1,2,4,5,5,6,3,5,2}\n",
        "print(s)\n",
        "\n",
        "#only consider unique values"
      ],
      "execution_count": null,
      "outputs": [
        {
          "output_type": "stream",
          "text": [
            "{1, 2, 3, 4, 5, 6}\n"
          ],
          "name": "stdout"
        }
      ]
    },
    {
      "cell_type": "code",
      "metadata": {
        "colab": {
          "base_uri": "https://localhost:8080/"
        },
        "id": "PCKNr5A138wJ",
        "outputId": "6df43d6c-0725-4b6b-9e73-83486bdc5a86"
      },
      "source": [
        "s.remove(1)\n",
        "print(s)"
      ],
      "execution_count": null,
      "outputs": [
        {
          "output_type": "stream",
          "text": [
            "{2, 3, 4, 5, 6}\n"
          ],
          "name": "stdout"
        }
      ]
    },
    {
      "cell_type": "code",
      "metadata": {
        "colab": {
          "base_uri": "https://localhost:8080/"
        },
        "id": "xvDrpwmg5Czx",
        "outputId": "d5eb524b-0770-407d-cec3-cca021af370d"
      },
      "source": [
        "set = frozenset([1,2,3,4,5])\n",
        "print(type(set))"
      ],
      "execution_count": null,
      "outputs": [
        {
          "output_type": "stream",
          "text": [
            "<class 'frozenset'>\n"
          ],
          "name": "stdout"
        }
      ]
    }
  ]
}