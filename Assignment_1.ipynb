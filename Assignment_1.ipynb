{
  "nbformat": 4,
  "nbformat_minor": 0,
  "metadata": {
    "colab": {
      "name": "Assignment-1.ipynb",
      "provenance": [],
      "collapsed_sections": [],
      "authorship_tag": "ABX9TyMqH2rV0HJAtA8V4iKu8aLI",
      "include_colab_link": true
    },
    "kernelspec": {
      "name": "python3",
      "display_name": "Python 3"
    },
    "language_info": {
      "name": "python"
    }
  },
  "cells": [
    {
      "cell_type": "markdown",
      "metadata": {
        "id": "view-in-github",
        "colab_type": "text"
      },
      "source": [
        "<a href=\"https://colab.research.google.com/github/banshita209/banshita209-Data-Science-and-Machine-Learning-with-Python/blob/master/Assignment_1.ipynb\" target=\"_parent\"><img src=\"https://colab.research.google.com/assets/colab-badge.svg\" alt=\"Open In Colab\"/></a>"
      ]
    },
    {
      "cell_type": "markdown",
      "metadata": {
        "id": "Ng21inWXtAQZ"
      },
      "source": [
        "Python If Condition"
      ]
    },
    {
      "cell_type": "markdown",
      "metadata": {
        "id": "sm4ndU5NtoY2"
      },
      "source": [
        "(i) We are having 3 list like this\n",
        "\n",
        "Colors = [“Yellow”,”Green”,”White”,”Black”]\n",
        "\n",
        "Fruits=[“Apple”,”Papaya”,”Mango”,”Orange”]\n",
        "\n",
        "Animals=[“Tiger”,”Lion”,”Deer”,”Zebra”]\n",
        "\n",
        "  i. Write a program that asks user to enter a Color/Fruit/Animal name and it should tell which category belongs to , like its is a fruit or color or Animal"
      ]
    },
    {
      "cell_type": "code",
      "metadata": {
        "colab": {
          "base_uri": "https://localhost:8080/"
        },
        "id": "SejO4Qpltbqf",
        "outputId": "eccd97a5-f22d-4937-9151-58f0fe12cf4d"
      },
      "source": [
        "x = input(\"Enter name of color/fruit/animals:\")\n",
        "colors = [\"Yellow\",\"Green\",\"White\",\"Black\"]\n",
        "fruits = [\"Apple\",\"Papaya\",\"Mango\",\"Orange\"]\n",
        "animals = [\"Tiger\",\"Lion\",\"Deer\",\"Zebra\"]\n",
        "\n",
        "if x in colors:\n",
        "  print(\"Category is colors.\")\n",
        "elif x in fruits:\n",
        "  print(\"Category is fruits.\")\n",
        "elif x in animals:\n",
        "  print(\"Category is animals.\")\n",
        "else:\n",
        "  print(\"You have entered something else!\")"
      ],
      "execution_count": null,
      "outputs": [
        {
          "output_type": "stream",
          "text": [
            "Enter name of color/fruit/animals:Black\n",
            "Category is colors.\n"
          ],
          "name": "stdout"
        }
      ]
    },
    {
      "cell_type": "markdown",
      "metadata": {
        "id": "xNPu8h9Kt8G9"
      },
      "source": [
        "(ii)Write a program that asks user to enter two cities and it tells you if they both are in same country or not. For example if I enter yellow and Black, it will print \"Both are colors\" but if I enter yellow and Tiger it should print \"They don't belong to same category\""
      ]
    },
    {
      "cell_type": "code",
      "metadata": {
        "colab": {
          "base_uri": "https://localhost:8080/"
        },
        "id": "vEg1QlWOuOg4",
        "outputId": "f5955229-e7f1-447f-8672-3ec5aa510b56"
      },
      "source": [
        "a = input(\"Enter first value:\")\n",
        "b = input(\"Enter Second value:\")\n",
        "colors = [\"Yellow\",\"Green\",\"White\",\"Black\"]\n",
        "fruits = [\"Apple\",\"Papaya\",\"Mango\",\"Orange\"]\n",
        "animals = [\"Tiger\",\"Lion\",\"Deer\",\"Zebra\"]\n",
        "\n",
        "if (a in colors) and (b in colors):\n",
        "  print(\"Both are colors.\")\n",
        "elif (a in fruits) and (b in fruits):\n",
        "  print(\"Both are fruits.\")\n",
        "elif (a in animals) and (b in animals):\n",
        "  print(\"Both are animals.\")\n",
        "else:\n",
        "  print(\"Both are from different categories!!!\")"
      ],
      "execution_count": null,
      "outputs": [
        {
          "output_type": "stream",
          "text": [
            "Enter first value:Apple\n",
            "Enter Second value:Lion\n",
            "Both are from different categories!!!\n"
          ],
          "name": "stdout"
        }
      ]
    },
    {
      "cell_type": "markdown",
      "metadata": {
        "id": "L1rrQgO8ujki"
      },
      "source": [
        "2.  Write a python program that can tell you if your grade score good or not . Good Score range is 40 to 60.\n",
        "\n",
        "  i. Ask user to enter his score.\n",
        "\n",
        "  ii. If it is below 40 to 60 range then print that score is low\n",
        "\n",
        "  iii. If it is above 60 then print that it is good otherwise print that it is normal"
      ]
    },
    {
      "cell_type": "code",
      "metadata": {
        "colab": {
          "base_uri": "https://localhost:8080/"
        },
        "id": "yZtDNO-IuwVs",
        "outputId": "dc3847fc-a3f3-47f2-dc96-c5089cb2f87d"
      },
      "source": [
        "mark=int(input(\"Enter your marks:\"))\n",
        "if (mark>60):\n",
        "  print(\"Congratulation!! your gardes are good\")\n",
        "elif (40 <= mark and mark <= 60):\n",
        "  print(\"NO worries!!!Your Grades are Normal..\")\n",
        "else:\n",
        "  print(\"Sorry!!You need to work hard\")"
      ],
      "execution_count": null,
      "outputs": [
        {
          "output_type": "stream",
          "text": [
            "Enter your marks:78\n",
            "Congratulation!! your gardes are good\n"
          ],
          "name": "stdout"
        }
      ]
    },
    {
      "cell_type": "markdown",
      "metadata": {
        "id": "MGK2ZJluwdyv"
      },
      "source": [
        "4.  Write a program that prints following shape\n",
        "\n",
        "```\n",
        "\n",
        "*\n",
        "\n",
        "* *\n",
        "\n",
        "* * *\n",
        "\n",
        "* * * *\n",
        "\n",
        "* * * * *\n",
        "\n",
        "* * * *\n",
        "\n",
        "* * *\n",
        "\n",
        "* *\n",
        "\n",
        "*\n",
        "\n",
        "```\n",
        "\n"
      ]
    },
    {
      "cell_type": "code",
      "metadata": {
        "colab": {
          "base_uri": "https://localhost:8080/"
        },
        "id": "z13kbpIvuVBp",
        "outputId": "9b222e2d-4219-4b70-9d1f-2e1cd86ad915"
      },
      "source": [
        "n=1\n",
        "for i in range(1,11):\n",
        "  if (i < 6):\n",
        "      for j in range(0,i):\n",
        "        print(\"*\",end=\"\")\n",
        "      n+=1\n",
        "      print()\n",
        "  else:\n",
        "    for j in range(1,n):\n",
        "      print(\"*\",end=\"\")\n",
        "    n-=1\n",
        "    print()"
      ],
      "execution_count": null,
      "outputs": [
        {
          "output_type": "stream",
          "text": [
            "*\n",
            "**\n",
            "***\n",
            "****\n",
            "*****\n",
            "*****\n",
            "****\n",
            "***\n",
            "**\n",
            "*\n"
          ],
          "name": "stdout"
        }
      ]
    },
    {
      "cell_type": "markdown",
      "metadata": {
        "id": "-DZcBjVe229-"
      },
      "source": [
        "5.   Lets say you are running a 50 km race. Write a program that,\n",
        "\n",
        "Upon completing each 10 km asks you \"are you tired?\"\n",
        "If you reply \"yes\" then it should break and print \"you didn't finish the race\"\n",
        " If you reply \"no\" then it should continue and ask \"are you tired\" on every km\n",
        "If you finish all 50 km then it should print congratulations message"
      ]
    },
    {
      "cell_type": "code",
      "metadata": {
        "colab": {
          "base_uri": "https://localhost:8080/"
        },
        "id": "5AGmsTET233b",
        "outputId": "841f0e8b-67fa-4123-fd41-4de8fd397ffb"
      },
      "source": [
        "distance = 50\n",
        "interval = 10\n",
        "laps = distance // interval\n",
        "count = 0\n",
        "for i in range(laps-1):\n",
        "  x = input(\"Are you tired?\")\n",
        "  if x == \"yes\":\n",
        "    print(\"You didn't finish the race. You have completed only {} laps\".format(i+1))\n",
        "    break\n",
        "  elif x == \"no\":\n",
        "    count = count + 1\n",
        "    continue\n",
        "  if count == 4:\n",
        "    print(\"You have finished the race,Congratulations!!!!!!\")"
      ],
      "execution_count": null,
      "outputs": [
        {
          "output_type": "stream",
          "text": [
            "Are you tired?no\n",
            "Are you tired?no\n",
            "Are you tired?no\n",
            "Are you tired?no\n",
            "You have finished the race,Congratulations!!!!!!\n"
          ],
          "name": "stdout"
        }
      ]
    },
    {
      "cell_type": "markdown",
      "metadata": {
        "id": "KGy1GwuB3d9C"
      },
      "source": [
        "6.  Write a Python program to find those numbers which are divisible by 7 and multiple of 5, between 1500 and 2700 (both included)."
      ]
    },
    {
      "cell_type": "code",
      "metadata": {
        "colab": {
          "base_uri": "https://localhost:8080/"
        },
        "id": "zc1R6jH33iyr",
        "outputId": "ed14a924-b2aa-4853-c193-896a33ae4b24"
      },
      "source": [
        "print(\"Number within range are:\")\n",
        "for i in range(1500, 2701):\n",
        "  if (i % 7 == 0) and (i % 5 == 0):\n",
        "    print(i)"
      ],
      "execution_count": null,
      "outputs": [
        {
          "output_type": "stream",
          "text": [
            "Number within range are:\n",
            "1505\n",
            "1540\n",
            "1575\n",
            "1610\n",
            "1645\n",
            "1680\n",
            "1715\n",
            "1750\n",
            "1785\n",
            "1820\n",
            "1855\n",
            "1890\n",
            "1925\n",
            "1960\n",
            "1995\n",
            "2030\n",
            "2065\n",
            "2100\n",
            "2135\n",
            "2170\n",
            "2205\n",
            "2240\n",
            "2275\n",
            "2310\n",
            "2345\n",
            "2380\n",
            "2415\n",
            "2450\n",
            "2485\n",
            "2520\n",
            "2555\n",
            "2590\n",
            "2625\n",
            "2660\n",
            "2695\n"
          ],
          "name": "stdout"
        }
      ]
    },
    {
      "cell_type": "markdown",
      "metadata": {
        "id": "k8VXOe3e3vtV"
      },
      "source": [
        "7.   Print square of all numbers between 10 to 20 except even numbers"
      ]
    },
    {
      "cell_type": "code",
      "metadata": {
        "id": "9cf2C-Lw3wNQ"
      },
      "source": [
        "print(\"Square of numbers are:\")\n",
        "for i in range(10, 21):\n",
        "  if i % 2 != 0:\n",
        "    print(i ** 2)"
      ],
      "execution_count": null,
      "outputs": []
    },
    {
      "cell_type": "markdown",
      "metadata": {
        "id": "aSa2BHlk32sa"
      },
      "source": [
        "8.  Your Marks for five Test(test1 to test5) looks like this,\n",
        "\n",
        "marks_list = [65, 75, 2100, 95, 83]\n",
        "\n",
        "Write a program that asks you to enter marks and program should tell you in which test that marks occurred. If marks is not found then it should print that as well."
      ]
    },
    {
      "cell_type": "code",
      "metadata": {
        "colab": {
          "base_uri": "https://localhost:8080/"
        },
        "id": "xj60fPIL313e",
        "outputId": "f0ea6ed8-7d65-45a3-d2d7-e7643486c678"
      },
      "source": [
        "marks_list = [65, 75, 2100, 95, 83]\n",
        "mark=int(input(\"Enter your marks\"))\n",
        "i=1\n",
        "found= False\n",
        "for t_mark in marks_list:\n",
        "  if (mark == t_mark):\n",
        "    print(\"your marks is from test\",i)\n",
        "    found=True\n",
        "    break\n",
        "  i+=1\n",
        "if(found == False):\n",
        "  print(\"No test found for given marks\")\n"
      ],
      "execution_count": null,
      "outputs": [
        {
          "output_type": "stream",
          "text": [
            "Enter your marks75\n",
            "your marks is from test 2\n"
          ],
          "name": "stdout"
        }
      ]
    }
  ]
}