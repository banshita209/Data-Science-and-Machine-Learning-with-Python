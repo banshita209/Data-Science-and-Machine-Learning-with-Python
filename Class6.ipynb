{
  "nbformat": 4,
  "nbformat_minor": 0,
  "metadata": {
    "colab": {
      "name": "Class6.ipynb",
      "provenance": [],
      "authorship_tag": "ABX9TyP0f8QvUbB38pkTF0u/CahY",
      "include_colab_link": true
    },
    "kernelspec": {
      "name": "python3",
      "display_name": "Python 3"
    },
    "language_info": {
      "name": "python"
    }
  },
  "cells": [
    {
      "cell_type": "markdown",
      "metadata": {
        "id": "view-in-github",
        "colab_type": "text"
      },
      "source": [
        "<a href=\"https://colab.research.google.com/github/banshita209/banshita209-Data-Science-and-Machine-Learning-with-Python/blob/master/Class6.ipynb\" target=\"_parent\"><img src=\"https://colab.research.google.com/assets/colab-badge.svg\" alt=\"Open In Colab\"/></a>"
      ]
    },
    {
      "cell_type": "markdown",
      "metadata": {
        "id": "hmR12urD_8vD"
      },
      "source": [
        "# Pandas\n",
        "* mostly used data analysisi\n",
        "* data manupulation\n",
        "\n",
        "two type in Pandas:\n",
        "1. Series\n",
        "2. Data Frames\n",
        "\n",
        "##series\n",
        "*\n",
        "\n",
        "##Dataframes\n",
        "*"
      ]
    },
    {
      "cell_type": "code",
      "metadata": {
        "id": "KZZZok-L_tBH"
      },
      "source": [
        ""
      ],
      "execution_count": null,
      "outputs": []
    }
  ]
}