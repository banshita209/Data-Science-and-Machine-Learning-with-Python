{
  "nbformat": 4,
  "nbformat_minor": 0,
  "metadata": {
    "colab": {
      "name": "class3.ipynb",
      "provenance": [],
      "authorship_tag": "ABX9TyP1Go3FxVdxr7Mj+v3EgMqS",
      "include_colab_link": true
    },
    "kernelspec": {
      "name": "python3",
      "display_name": "Python 3"
    },
    "language_info": {
      "name": "python"
    }
  },
  "cells": [
    {
      "cell_type": "markdown",
      "metadata": {
        "id": "view-in-github",
        "colab_type": "text"
      },
      "source": [
        "<a href=\"https://colab.research.google.com/github/banshita209/banshita209-Data-Science-and-Machine-Learning-with-Python/blob/master/class3.ipynb\" target=\"_parent\"><img src=\"https://colab.research.google.com/assets/colab-badge.svg\" alt=\"Open In Colab\"/></a>"
      ]
    },
    {
      "cell_type": "markdown",
      "metadata": {
        "id": "9t1SWbBRYt2B"
      },
      "source": [
        "**List.**\n",
        "\n",
        "1.   data structure, heterogeneous type \n",
        "immutable\n"
      ]
    },
    {
      "cell_type": "code",
      "metadata": {
        "colab": {
          "base_uri": "https://localhost:8080/"
        },
        "id": "bt08HCI5ZGaT",
        "outputId": "95625c18-e27f-449e-8388-57ccb7a452d3"
      },
      "source": [
        "l1=[1,2,3,4]\n",
        "l2=['apple','orange','banana','mango']\n",
        "\n",
        "#list function\n",
        "t=(1,2,3) #tuple\n",
        "l3=list(t) #using list it convert tuple to list\n",
        "print(l3)"
      ],
      "execution_count": null,
      "outputs": [
        {
          "output_type": "stream",
          "text": [
            "[1, 2, 3]\n"
          ],
          "name": "stdout"
        }
      ]
    },
    {
      "cell_type": "code",
      "metadata": {
        "colab": {
          "base_uri": "https://localhost:8080/"
        },
        "id": "LlujjyiDa3nv",
        "outputId": "9dbfbdfa-9c5b-412a-e971-2c7d0c8776d2"
      },
      "source": [
        "l=[] #created a empty list \n",
        "n=int(input(\"enter no of elements\"))\n",
        "for i in range(n):\n",
        "  item=input(\"enter element\")\n",
        "  l.append(item) #append fun which end item at the end of the list\n",
        "  print(l)\n",
        "#by default python take every input as a string"
      ],
      "execution_count": null,
      "outputs": [
        {
          "output_type": "stream",
          "text": [
            "enter no of elements5\n",
            "enter element21\n",
            "['21']\n",
            "enter element34\n",
            "['21', '34']\n",
            "enter element54\n",
            "['21', '34', '54']\n",
            "enter element56\n",
            "['21', '34', '54', '56']\n",
            "enter element23\n",
            "['21', '34', '54', '56', '23']\n"
          ],
          "name": "stdout"
        }
      ]
    },
    {
      "cell_type": "markdown",
      "metadata": {
        "id": "91_rVsvpZ0G5"
      },
      "source": [
        "Assessing element of list:\n"
      ]
    },
    {
      "cell_type": "code",
      "metadata": {
        "colab": {
          "base_uri": "https://localhost:8080/",
          "height": 35
        },
        "id": "-wQK-MQybSAg",
        "outputId": "61ac679f-e12d-4496-a2ba-0661c4ecd498"
      },
      "source": [
        "l[0] #first element"
      ],
      "execution_count": null,
      "outputs": [
        {
          "output_type": "execute_result",
          "data": {
            "application/vnd.google.colaboratory.intrinsic+json": {
              "type": "string"
            },
            "text/plain": [
              "'21'"
            ]
          },
          "metadata": {
            "tags": []
          },
          "execution_count": 16
        }
      ]
    },
    {
      "cell_type": "code",
      "metadata": {
        "colab": {
          "base_uri": "https://localhost:8080/",
          "height": 35
        },
        "id": "FiBehyIfbawl",
        "outputId": "ce513d13-40f3-44d2-e781-b3847f33986d"
      },
      "source": [
        "l[-1] #end of the list"
      ],
      "execution_count": null,
      "outputs": [
        {
          "output_type": "execute_result",
          "data": {
            "application/vnd.google.colaboratory.intrinsic+json": {
              "type": "string"
            },
            "text/plain": [
              "'23'"
            ]
          },
          "metadata": {
            "tags": []
          },
          "execution_count": 17
        }
      ]
    },
    {
      "cell_type": "code",
      "metadata": {
        "colab": {
          "base_uri": "https://localhost:8080/"
        },
        "id": "-5Q6_ZVWcFao",
        "outputId": "c692f698-823e-4858-cec4-c2e620e004ed"
      },
      "source": [
        "l[2:4] #slicing"
      ],
      "execution_count": null,
      "outputs": [
        {
          "output_type": "execute_result",
          "data": {
            "text/plain": [
              "['54', '56']"
            ]
          },
          "metadata": {
            "tags": []
          },
          "execution_count": 18
        }
      ]
    },
    {
      "cell_type": "code",
      "metadata": {
        "colab": {
          "base_uri": "https://localhost:8080/"
        },
        "id": "Y8jOUzA3b2tH",
        "outputId": "8aed788c-8cb4-4004-8160-d4fc1af8e76a"
      },
      "source": [
        "l.insert(2,'ml')\n",
        "print(l)"
      ],
      "execution_count": null,
      "outputs": [
        {
          "output_type": "stream",
          "text": [
            "['21', '34', 'ml', '54', '56', '23']\n"
          ],
          "name": "stdout"
        }
      ]
    },
    {
      "cell_type": "code",
      "metadata": {
        "colab": {
          "base_uri": "https://localhost:8080/"
        },
        "id": "D1nMhDrqcVNH",
        "outputId": "e6b7310a-89e3-48f6-8a6c-7d9b6ff5e951"
      },
      "source": [
        "l=[10,20,['a','b','c'],50]\n",
        "print(l)"
      ],
      "execution_count": null,
      "outputs": [
        {
          "output_type": "stream",
          "text": [
            "[10, 20, ['a', 'b', 'c'], 50]\n"
          ],
          "name": "stdout"
        }
      ]
    },
    {
      "cell_type": "code",
      "metadata": {
        "colab": {
          "base_uri": "https://localhost:8080/"
        },
        "id": "nkMx8oVCc-5P",
        "outputId": "65e24029-3d1f-4e18-da5e-78f49f7c1814"
      },
      "source": [
        "print(l[2][0])"
      ],
      "execution_count": null,
      "outputs": [
        {
          "output_type": "stream",
          "text": [
            "a\n"
          ],
          "name": "stdout"
        }
      ]
    },
    {
      "cell_type": "code",
      "metadata": {
        "colab": {
          "base_uri": "https://localhost:8080/"
        },
        "id": "r_iBPAYPhECq",
        "outputId": "5f9e9de7-839d-46cb-8ce7-6e4a2edadc4f"
      },
      "source": [
        "l=[10,20,30,40,50,30]\n",
        "l.remove(30) #remove the first occurence of  given value\n",
        "print(l)"
      ],
      "execution_count": null,
      "outputs": [
        {
          "output_type": "stream",
          "text": [
            "[10, 20, 40, 50, 30]\n"
          ],
          "name": "stdout"
        }
      ]
    },
    {
      "cell_type": "code",
      "metadata": {
        "colab": {
          "base_uri": "https://localhost:8080/"
        },
        "id": "DuJGoMP7hmd0",
        "outputId": "8666b46b-9d9f-4e72-e887-d7eacdf55a0f"
      },
      "source": [
        "l=[10,20,30,40,50,30]\n",
        "l.pop(1) #remove the value of given index\n",
        "print(l)\n",
        "#pop function return the deleted value. it deletes using index "
      ],
      "execution_count": null,
      "outputs": [
        {
          "output_type": "stream",
          "text": [
            "[10, 30, 40, 50, 30]\n"
          ],
          "name": "stdout"
        }
      ]
    },
    {
      "cell_type": "code",
      "metadata": {
        "colab": {
          "base_uri": "https://localhost:8080/"
        },
        "id": "Ba8Hl1qmh4Ns",
        "outputId": "a05f7667-e67b-4ff5-ee30-83f2bf0aafd1"
      },
      "source": [
        "l=[10,20,30,40,50,30]\n",
        "del l[0] #remove the value of given index using del finction it can delete entire list\n",
        "print(l)"
      ],
      "execution_count": null,
      "outputs": [
        {
          "output_type": "stream",
          "text": [
            "[20, 30, 40, 50, 30]\n"
          ],
          "name": "stdout"
        }
      ]
    },
    {
      "cell_type": "code",
      "metadata": {
        "id": "e-oUWv9YiRV7"
      },
      "source": [
        "l=[10,20,30,40,50,30]\n",
        "l.clear #clears the entire list\n",
        "print(l)\n"
      ],
      "execution_count": null,
      "outputs": []
    },
    {
      "cell_type": "code",
      "metadata": {
        "colab": {
          "base_uri": "https://localhost:8080/"
        },
        "id": "GOEXOu5ppbc_",
        "outputId": "5409e161-7c71-4cea-a6bb-ad750ed87e68"
      },
      "source": [
        "l=[10,20,30,40,50,30]\n",
        "l.count(30)"
      ],
      "execution_count": null,
      "outputs": [
        {
          "output_type": "execute_result",
          "data": {
            "text/plain": [
              "2"
            ]
          },
          "metadata": {
            "tags": []
          },
          "execution_count": 4
        }
      ]
    }
  ]
}